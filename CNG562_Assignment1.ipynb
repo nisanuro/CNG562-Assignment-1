{
  "nbformat": 4,
  "nbformat_minor": 0,
  "metadata": {
    "colab": {
      "name": "CNG562-Assignment1.ipynb",
      "provenance": [],
      "include_colab_link": true
    },
    "kernelspec": {
      "name": "python3",
      "display_name": "Python 3"
    },
    "accelerator": "GPU"
  },
  "cells": [
    {
      "cell_type": "markdown",
      "metadata": {
        "id": "view-in-github",
        "colab_type": "text"
      },
      "source": [
        "<a href=\"https://colab.research.google.com/github/nisanuro/CNG562-Assignment-1/blob/master/CNG562_Assignment1.ipynb\" target=\"_parent\"><img src=\"https://colab.research.google.com/assets/colab-badge.svg\" alt=\"Open In Colab\"/></a>"
      ]
    },
    {
      "cell_type": "markdown",
      "metadata": {
        "id": "UEX_vKmhbU97",
        "colab_type": "text"
      },
      "source": [
        "# **CNG 562 - Assignment #1**\n",
        "\n",
        "Linear Regression vs Logistic Regression using Iris Dataset\\\n",
        "Comparing:\n",
        "*   Random 1-Hold Out\n",
        "*   5-Fold\n",
        "*   10-Fold\n",
        "*   Strafied 1-Hold Out\n",
        "\n",
        "\\\n",
        "Nisa Nur Odabaş\\\n",
        "Kaan Taha Köken\n",
        "\n",
        "---\n",
        "\n"
      ]
    },
    {
      "cell_type": "code",
      "metadata": {
        "id": "A7xb3nOt1MJY",
        "colab_type": "code",
        "colab": {}
      },
      "source": [
        "import matplotlib.pyplot as plt  \n",
        "from sklearn.model_selection import train_test_split, KFold, StratifiedKFold, cross_val_score\n",
        "from sklearn.linear_model import LinearRegression, LogisticRegression\n",
        "from sklearn import metrics, datasets, preprocessing\n",
        "from sklearn.metrics import roc_curve, auc\n",
        "%matplotlib inline"
      ],
      "execution_count": 0,
      "outputs": []
    },
    {
      "cell_type": "markdown",
      "metadata": {
        "id": "rSeSvKNyd4WU",
        "colab_type": "text"
      },
      "source": [
        "**K-Fold method**"
      ]
    },
    {
      "cell_type": "code",
      "metadata": {
        "id": "JNATKa--c7Z0",
        "colab_type": "code",
        "colab": {}
      },
      "source": [
        "def kFold(foldNumber, X_train, Y_train):\n",
        "\n",
        "  kf = KFold(n_splits=foldNumber, shuffle=False)  \n",
        "\n",
        "  logReg = LogisticRegression(solver='liblinear', multi_class='ovr')\n",
        "  linReg = LinearRegression()  \n",
        "\n",
        "  cv_result_log = cross_val_score(logReg, X_train, Y_train, cv=kf, scoring='accuracy')\n",
        "  cv_result_lin = cross_val_score(linReg, X_train, Y_train, cv=kf, scoring='neg_mean_squared_error')\n",
        "\n",
        "  print(str(foldNumber) + \"Fold\")\n",
        "  print(\"Logistic Regression Accuracy: \", cv_result_log.mean())\n",
        "  print(\"Linear Regression Accuracy: \", 1 + cv_result_lin.mean())"
      ],
      "execution_count": 0,
      "outputs": []
    },
    {
      "cell_type": "markdown",
      "metadata": {
        "id": "Tyf75fcUeBB5",
        "colab_type": "text"
      },
      "source": [
        "**Random 1-Hold Out method**"
      ]
    },
    {
      "cell_type": "code",
      "metadata": {
        "id": "4D9wHIq3ceJS",
        "colab_type": "code",
        "colab": {}
      },
      "source": [
        "def randomOneHoldout(X_train, Y_train):\n",
        "\n",
        "  x_train, x_test, y_train, y_test = train_test_split(X_train, Y_train, test_size=0.2, random_state=0)\n",
        "  \n",
        "  logReg = LogisticRegression(solver='liblinear', multi_class='ovr')\n",
        "  linReg = LinearRegression()\n",
        "\n",
        "  logReg.fit(x_train, y_train)\n",
        "  linReg.fit(x_train, y_train)\n",
        "\n",
        "  y_pred_log = logReg.predict(x_test)\n",
        "  y_pred_lin = linReg.predict(x_test)\n",
        "  \n",
        "  print(\"Random One Hold Out\")\n",
        "  print(\"Logistic Regression Accuracy: \", 1 - metrics.mean_squared_error(y_test, y_pred_log))\n",
        "  print(\"Linear Regression Accuracy: \", 1 - metrics.mean_squared_error(y_test, y_pred_lin))"
      ],
      "execution_count": 0,
      "outputs": []
    },
    {
      "cell_type": "markdown",
      "metadata": {
        "id": "pPWS39aXeI6n",
        "colab_type": "text"
      },
      "source": [
        "**Stratified 1-Hold Out method**"
      ]
    },
    {
      "cell_type": "code",
      "metadata": {
        "id": "evz_cnDudAiM",
        "colab_type": "code",
        "colab": {}
      },
      "source": [
        "def stratifiedOneHoldout(X_train, Y_train):\n",
        "  \n",
        "  x_train, x_test, y_train, y_test = train_test_split(X_train, Y_train, test_size=0.2, random_state=0, stratify=Y_train)\n",
        "  \n",
        "  logReg = LogisticRegression(solver='liblinear', multi_class='ovr')\n",
        "  linReg = LinearRegression()\n",
        "\n",
        "  logReg.fit(x_train, y_train)\n",
        "  linReg.fit(x_train, y_train)\n",
        "\n",
        "  y_pred_log = logReg.predict(x_test)\n",
        "  y_pred_lin = linReg.predict(x_test)\n",
        "  \n",
        "  print(\"Stratified\")\n",
        "  print(\"Logistic Regression Accuracy: \", 1 - metrics.mean_squared_error(y_test, y_pred_log))\n",
        "  print(\"Linear Regression Accuracy: \", 1 - metrics.mean_squared_error(y_test, y_pred_lin))"
      ],
      "execution_count": 0,
      "outputs": []
    },
    {
      "cell_type": "markdown",
      "metadata": {
        "id": "D_2B_gqEeOd9",
        "colab_type": "text"
      },
      "source": [
        "**Displaying accuracies for all validation methods**"
      ]
    },
    {
      "cell_type": "code",
      "metadata": {
        "id": "X5LKjla4N3Al",
        "colab_type": "code",
        "colab": {}
      },
      "source": [
        "def displayAccuracy(X, Y):\n",
        "    \n",
        "    X_train, X_test, Y_train, Y_test = train_test_split(X, Y, test_size=0.2, random_state=0)\n",
        "    \n",
        "    kFold(5, X_train, Y_train)    \n",
        "    kFold(10, X_train, Y_train)    \n",
        "    randomOneHoldout(X_train, Y_train)\n",
        "    stratifiedOneHoldout(X_train, Y_train)"
      ],
      "execution_count": 0,
      "outputs": []
    },
    {
      "cell_type": "markdown",
      "metadata": {
        "id": "1fXFXbbvecNi",
        "colab_type": "text"
      },
      "source": [
        "**Round method for linear regression prediction**"
      ]
    },
    {
      "cell_type": "code",
      "metadata": {
        "id": "wxbKsVBDL_ru",
        "colab_type": "code",
        "colab": {}
      },
      "source": [
        "def roundPredict(p):\n",
        "    r = p.copy()\n",
        "    for i in range(len(r)):\n",
        "        if r[i] <= 0.5: r[i] = 0\n",
        "        elif r[i] >= 1.5: r[i] = 2\n",
        "        else: r[i] = 1\n",
        "    return r"
      ],
      "execution_count": 0,
      "outputs": []
    },
    {
      "cell_type": "markdown",
      "metadata": {
        "id": "7gQM8YLX4oDb",
        "colab_type": "text"
      },
      "source": [
        "**Display method for ROC curve**"
      ]
    },
    {
      "cell_type": "code",
      "metadata": {
        "id": "NuzMPkQ54UjX",
        "colab_type": "code",
        "colab": {}
      },
      "source": [
        "def displayROC(fpr, tpr, roc_auc):\n",
        "  plt.figure()\n",
        "  plt.plot(fpr, tpr, label='ROC curve (area = %0.2f)' % roc_auc)\n",
        "  plt.plot([0, 1], [0, 1], 'k--')\n",
        "  plt.xlim([0.0, 1.0])\n",
        "  plt.ylim([0.0, 1.05])\n",
        "  plt.xlabel('False Positive Rate')\n",
        "  plt.ylabel('True Positive Rate')\n",
        "  plt.title('Receiver operating characteristic example')\n",
        "  plt.legend(loc=\"lower right\")\n",
        "  plt.show()"
      ],
      "execution_count": 0,
      "outputs": []
    },
    {
      "cell_type": "markdown",
      "metadata": {
        "id": "K-5fN1oyejo-",
        "colab_type": "text"
      },
      "source": [
        "**Main**"
      ]
    },
    {
      "cell_type": "code",
      "metadata": {
        "id": "Rs4klAsSguXu",
        "colab_type": "code",
        "outputId": "4252125b-45d0-433a-97e1-484bf3039bd0",
        "colab": {
          "base_uri": "https://localhost:8080/",
          "height": 731
        }
      },
      "source": [
        "if __name__ == '__main__':\n",
        "\n",
        "  iris = datasets.load_iris()\n",
        "  \n",
        "  X = iris.data\n",
        "  Y = iris.target\n",
        "  \n",
        "  # L1 normalization\n",
        "  l1_norm = preprocessing.normalize(X, norm=\"l1\")\n",
        "  # Mean removal\n",
        "  mean_removal = preprocessing.scale(X)\n",
        "\n",
        "  '''#mean & standart deviation before mean removal \n",
        "  print(X.mean(axis=0))\n",
        "  print(X.std(axis=0))\n",
        "\n",
        "  #mean & standart deviation after mean removal \n",
        "  print(mean_removal.mean(axis=0))\n",
        "  print(mean_removal.std(axis=0))'''\n",
        "\n",
        "  #Displaying result according to each type of methods and regression model\n",
        "  print(\"\\nRaw: \")\n",
        "  displayAccuracy(X,Y)\n",
        "  print(\"\\nL1 Normalization: \")\n",
        "  displayAccuracy(l1_norm,Y)\n",
        "  print(\"\\nMean Removal: \")\n",
        "  displayAccuracy(mean_removal,Y)"
      ],
      "execution_count": 149,
      "outputs": [
        {
          "output_type": "stream",
          "text": [
            "\n",
            "Raw: \n",
            "5Fold\n",
            "Logistic Regression Accuracy:  0.9333333333333333\n",
            "Linear Regression Accuracy:  0.9497273362310497\n",
            "10Fold\n",
            "Logistic Regression Accuracy:  0.9333333333333332\n",
            "Linear Regression Accuracy:  0.9502722839017427\n",
            "Random One Hold Out\n",
            "Logistic Regression Accuracy:  0.8333333333333334\n",
            "Linear Regression Accuracy:  0.9183764782741906\n",
            "Stratified\n",
            "Logistic Regression Accuracy:  0.9583333333333334\n",
            "Linear Regression Accuracy:  0.9531984944502794\n",
            "\n",
            "L1 Normalization: \n",
            "5Fold\n",
            "Logistic Regression Accuracy:  0.6916666666666667\n",
            "Linear Regression Accuracy:  0.9185691833496094\n",
            "10Fold\n",
            "Logistic Regression Accuracy:  0.6916666666666667\n",
            "Linear Regression Accuracy:  0.9181168874104818\n",
            "Random One Hold Out\n",
            "Logistic Regression Accuracy:  0.7083333333333333\n",
            "Linear Regression Accuracy:  0.8837890625\n",
            "Stratified\n",
            "Logistic Regression Accuracy:  0.7083333333333333\n",
            "Linear Regression Accuracy:  0.9245198567708334\n",
            "\n",
            "Mean Removal: \n",
            "5Fold\n",
            "Logistic Regression Accuracy:  0.875\n",
            "Linear Regression Accuracy:  0.9497273362310498\n",
            "10Fold\n",
            "Logistic Regression Accuracy:  0.8833333333333334\n",
            "Linear Regression Accuracy:  0.9502722839017428\n",
            "Random One Hold Out\n",
            "Logistic Regression Accuracy:  0.7916666666666666\n",
            "Linear Regression Accuracy:  0.9183764782741907\n",
            "Stratified\n",
            "Logistic Regression Accuracy:  0.9166666666666666\n",
            "Linear Regression Accuracy:  0.9531984944502794\n"
          ],
          "name": "stdout"
        }
      ]
    },
    {
      "cell_type": "markdown",
      "metadata": {
        "id": "KwS89vg5fEhF",
        "colab_type": "text"
      },
      "source": [
        "# **Final**\n",
        "**Training and Testing using:**\n",
        "* **Raw data**\n",
        "* **Stratified 1-Hold Out**\n",
        "* **Linear Regression**\n",
        "\n",
        "\n",
        "\n",
        "\n"
      ]
    },
    {
      "cell_type": "markdown",
      "metadata": {
        "id": "1H8jMNi4g1FU",
        "colab_type": "text"
      },
      "source": [
        "**Dividing Train and Test sets**"
      ]
    },
    {
      "cell_type": "code",
      "metadata": {
        "id": "DCRTm6pZg8nN",
        "colab_type": "code",
        "colab": {}
      },
      "source": [
        " X_train, X_test, Y_train, Y_test = train_test_split(X, Y, test_size=0.3, random_state=0, stratify=Y)"
      ],
      "execution_count": 0,
      "outputs": []
    },
    {
      "cell_type": "markdown",
      "metadata": {
        "id": "uhNi5KMOxgcw",
        "colab_type": "text"
      },
      "source": [
        "Splitting dataset into 4.\n",
        "*   Train - 56%\n",
        "*   Train Dev - 14%\n",
        "*   Dev - 15%\n",
        "*   Test - 15%"
      ]
    },
    {
      "cell_type": "code",
      "metadata": {
        "id": "Oow4dOrkUk0y",
        "colab_type": "code",
        "colab": {}
      },
      "source": [
        " Train_x, TrainDev_x, Train_y, TrainDev_y = train_test_split(X_train, Y_train, test_size=0.2, random_state=0, stratify=Y_train)\n",
        " Dev_x, Test_x, Dev_y, Test_y = train_test_split(X_test, Y_test, test_size=0.5, random_state=0, stratify=Y_test)\n"
      ],
      "execution_count": 0,
      "outputs": []
    },
    {
      "cell_type": "markdown",
      "metadata": {
        "id": "Xgm3mSbMhJy2",
        "colab_type": "text"
      },
      "source": [
        "**Training**"
      ]
    },
    {
      "cell_type": "code",
      "metadata": {
        "id": "OQEgrf5tuuOQ",
        "colab_type": "code",
        "outputId": "17520d02-0a79-42f4-9ccd-71eb62762599",
        "colab": {
          "base_uri": "https://localhost:8080/",
          "height": 34
        }
      },
      "source": [
        "  linReg = LinearRegression()\n",
        "  linReg.fit(Train_x, Train_y)"
      ],
      "execution_count": 152,
      "outputs": [
        {
          "output_type": "execute_result",
          "data": {
            "text/plain": [
              "LinearRegression(copy_X=True, fit_intercept=True, n_jobs=None, normalize=False)"
            ]
          },
          "metadata": {
            "tags": []
          },
          "execution_count": 152
        }
      ]
    },
    {
      "cell_type": "markdown",
      "metadata": {
        "id": "ZBrwECDVhi94",
        "colab_type": "text"
      },
      "source": [
        "**Testing**"
      ]
    },
    {
      "cell_type": "code",
      "metadata": {
        "id": "PP1bK9dKPfHT",
        "colab_type": "code",
        "outputId": "7bbd1a97-2908-4860-bbfa-e43da8f82194",
        "colab": {
          "base_uri": "https://localhost:8080/",
          "height": 493
        }
      },
      "source": [
        "  trainDev_pred = linReg.predict(TrainDev_x)\n",
        "  round_trainDev_pred = roundPredict(trainDev_pred)\n",
        "  \n",
        "  print(\"Train-Train Dev,   e1:\", metrics.mean_squared_error(TrainDev_y, trainDev_pred),\"\\n\")\n",
        "  print(\"Rounded Stratify One Hold Out - TrainDev\")\n",
        "  print(\"Linear Regression Accuracy: \", 1 - metrics.mean_squared_error(TrainDev_y, trainDev_pred))\n",
        "  print(\"Linear Regression R^2 score: \", metrics.r2_score(TrainDev_y, trainDev_pred))\n",
        "\n",
        "  print(\"\\ntrainDev_pred   \\tTrainDev_y\\trounded\")\n",
        "  for i, (j, k) in sorted(zip(trainDev_pred, zip(TrainDev_y, round_trainDev_pred))):\n",
        "    print(i , \"\\t\" , j, \"\\t\\t\", k)"
      ],
      "execution_count": 153,
      "outputs": [
        {
          "output_type": "stream",
          "text": [
            "Train-Train Dev,   e1: 0.05876313845669336 \n",
            "\n",
            "Rounded Stratify One Hold Out - TrainDev\n",
            "Linear Regression Accuracy:  0.9412368615433067\n",
            "Linear Regression R^2 score:  0.91185529231496\n",
            "\n",
            "trainDev_pred   \tTrainDev_y\trounded\n",
            "-0.13839147720498163 \t 0 \t\t 0.0\n",
            "-0.020046458285302993 \t 0 \t\t 0.0\n",
            "-0.010544867798288726 \t 0 \t\t 0.0\n",
            "-0.00257374725955245 \t 0 \t\t 0.0\n",
            "0.00430619661238496 \t 0 \t\t 0.0\n",
            "0.04743188973070861 \t 0 \t\t 0.0\n",
            "0.09601163203673474 \t 0 \t\t 0.0\n",
            "0.8529057223353345 \t 1 \t\t 1.0\n",
            "1.0582147675441174 \t 1 \t\t 1.0\n",
            "1.2731067662698674 \t 1 \t\t 1.0\n",
            "1.3141104768592393 \t 1 \t\t 1.0\n",
            "1.331988762171668 \t 1 \t\t 1.0\n",
            "1.3843000999760933 \t 1 \t\t 1.0\n",
            "1.4333817263770279 \t 1 \t\t 1.0\n",
            "1.4784285382481448 \t 2 \t\t 1.0\n",
            "1.555788618794975 \t 2 \t\t 2.0\n",
            "1.7322149705076941 \t 2 \t\t 2.0\n",
            "1.9601519969160788 \t 2 \t\t 2.0\n",
            "1.9751912196295316 \t 2 \t\t 2.0\n",
            "2.0277847842400685 \t 2 \t\t 2.0\n",
            "2.1217438364258645 \t 2 \t\t 2.0\n"
          ],
          "name": "stdout"
        }
      ]
    },
    {
      "cell_type": "markdown",
      "metadata": {
        "id": "RZFlCzQV24Wf",
        "colab_type": "text"
      },
      "source": [
        "Add TrainDev to Train and create new model"
      ]
    },
    {
      "cell_type": "code",
      "metadata": {
        "id": "A6tMJf3yRw5L",
        "colab_type": "code",
        "outputId": "a8facd60-2642-44ca-d025-d39b3610d450",
        "colab": {
          "base_uri": "https://localhost:8080/",
          "height": 510
        }
      },
      "source": [
        "dev_pred = linReg.predict(Dev_x)\n",
        "round_dev_pred = roundPredict(dev_pred)\n",
        "\n",
        "print(\"Train-Dev,   e2\", metrics.mean_squared_error(Dev_y, dev_pred),\"\\n\")\n",
        "print(\"Rounded Stratify One Hold Out - Dev\")\n",
        "print(\"Linear Regression Accuracy: \", 1 - metrics.mean_squared_error(Dev_y, dev_pred))\n",
        "print(\"Linear Regression R^2 score: \", metrics.r2_score(Dev_y, dev_pred))\n",
        "\n",
        "print(\"\\ndev_pred     \\t      Dev_y\\trounded\")\n",
        "for i, (j, k) in sorted(zip(dev_pred, zip(Dev_y, round_dev_pred))):\n",
        "    print(i , \"\\t\" , j, \"\\t\", k)"
      ],
      "execution_count": 154,
      "outputs": [
        {
          "output_type": "stream",
          "text": [
            "Train-Dev,   e2 0.050911109070897693 \n",
            "\n",
            "Rounded Stratify One Hold Out - Dev\n",
            "Linear Regression Accuracy:  0.9490888909291023\n",
            "Linear Regression R^2 score:  0.9251034140112022\n",
            "\n",
            "dev_pred     \t      Dev_y\trounded\n",
            "-0.058514325307117476 \t 0 \t 0.0\n",
            "-0.010649443062331787 \t 0 \t 0.0\n",
            "-0.007315156394797795 \t 0 \t 0.0\n",
            "0.008037792110784314 \t 0 \t 0.0\n",
            "0.06479780548363284 \t 0 \t 0.0\n",
            "0.1205292330031118 \t 0 \t 0.0\n",
            "0.1973000209780516 \t 0 \t 0.0\n",
            "0.9650856574443161 \t 1 \t 1.0\n",
            "1.1234455655418274 \t 1 \t 1.0\n",
            "1.1431426143517895 \t 1 \t 1.0\n",
            "1.2081664818301967 \t 1 \t 1.0\n",
            "1.2807873732505648 \t 1 \t 1.0\n",
            "1.344209914511452 \t 1 \t 1.0\n",
            "1.3951230098832994 \t 1 \t 1.0\n",
            "1.603258412217679 \t 2 \t 2.0\n",
            "1.6060532703572574 \t 2 \t 2.0\n",
            "1.698465300387035 \t 2 \t 2.0\n",
            "1.7118218338530151 \t 2 \t 2.0\n",
            "1.7570672894915074 \t 2 \t 2.0\n",
            "1.8425030658411172 \t 2 \t 2.0\n",
            "2.1644512284880157 \t 2 \t 2.0\n",
            "2.1660630614662466 \t 2 \t 2.0\n"
          ],
          "name": "stdout"
        }
      ]
    },
    {
      "cell_type": "code",
      "metadata": {
        "id": "IUhWtFNvBupT",
        "colab_type": "code",
        "outputId": "9982cfbc-67d5-48d5-f30f-473897267b50",
        "colab": {
          "base_uri": "https://localhost:8080/",
          "height": 527
        }
      },
      "source": [
        "test_pred = linReg.predict(Test_x)\n",
        "round_test_pred= roundPredict(test_pred)\n",
        "\n",
        "\n",
        "print(\"Train-Test,   e3: \", metrics.mean_squared_error(Test_y, test_pred),\"\\n\")\n",
        "print(\"Rounded Stratify One Hold Out - Test set\")\n",
        "print(\"Linear Regression Accuracy: \", 1 - metrics.mean_squared_error(Test_y, test_pred))\n",
        "print(\"Linear Regression R^2 score: \", metrics.r2_score(Test_y, test_pred))\n",
        "\n",
        "print(\"\\ntest_pred     \\t      Test_y\\trounded\")\n",
        "for i, (j, k) in sorted(zip(test_pred, zip(Test_y, round_test_pred))):\n",
        "  print(i , \"\\t\" , j, \"\\t\", k)"
      ],
      "execution_count": 155,
      "outputs": [
        {
          "output_type": "stream",
          "text": [
            "Train-Test,   e3:  0.05383934801884544 \n",
            "\n",
            "Rounded Stratify One Hold Out - Test set\n",
            "Linear Regression Accuracy:  0.9461606519811545\n",
            "Linear Regression R^2 score:  0.9172063514477639\n",
            "\n",
            "test_pred     \t      Test_y\trounded\n",
            "-0.13285162496975972 \t 0 \t 0.0\n",
            "-0.07820915410829629 \t 0 \t 0.0\n",
            "-0.07032161660829617 \t 0 \t 0.0\n",
            "-0.07013345830551695 \t 0 \t 0.0\n",
            "-0.05387971144469844 \t 0 \t 0.0\n",
            "-0.03619784989086178 \t 0 \t 0.0\n",
            "-0.032965918478587486 \t 0 \t 0.0\n",
            "0.028721442323502322 \t 0 \t 0.0\n",
            "0.9246026031663763 \t 1 \t 1.0\n",
            "1.1454505351747373 \t 1 \t 1.0\n",
            "1.1525396295747607 \t 1 \t 1.0\n",
            "1.2379754059243706 \t 1 \t 1.0\n",
            "1.2686790829267514 \t 1 \t 1.0\n",
            "1.304422948078229 \t 1 \t 1.0\n",
            "1.3495638284526783 \t 1 \t 1.0\n",
            "1.3589608436756495 \t 1 \t 1.0\n",
            "1.472836194801598 \t 2 \t 1.0\n",
            "1.6034443505116747 \t 2 \t 2.0\n",
            "1.6930300234158557 \t 2 \t 2.0\n",
            "1.7171735277854578 \t 2 \t 2.0\n",
            "1.7520143745729162 \t 2 \t 2.0\n",
            "1.935299677932266 \t 2 \t 2.0\n",
            "2.028926232109409 \t 2 \t 2.0\n"
          ],
          "name": "stdout"
        }
      ]
    },
    {
      "cell_type": "code",
      "metadata": {
        "id": "43p8lSuCPCJb",
        "colab_type": "code",
        "outputId": "45a8df8c-8d09-4e05-c854-d2b65a8fa4f7",
        "colab": {
          "base_uri": "https://localhost:8080/",
          "height": 901
        }
      },
      "source": [
        "devTest_pred = linReg.predict(X_test)\n",
        "rounded_lin = roundPredict(devTest_pred)\n",
        "\n",
        "\n",
        "print(\"Train-(Dev+Test),   e4: \", metrics.mean_squared_error(Y_test, devTest_pred),\"\\n\")\n",
        "print(\"Rounded Stratify One Hold Out - Test set\")\n",
        "print(\"Linear Regression Accuracy: \", 1 - metrics.mean_squared_error(Y_test, devTest_pred))\n",
        "print(\"Linear Regression R^2 score: \", metrics.r2_score(Y_test, devTest_pred))\n",
        "\n",
        "print(\"\\ndevTest_pred  \\t\\t Dev+Test \\trounded\")\n",
        "for i, (j, k) in sorted(zip(devTest_pred, zip(Y_test, rounded_lin))):\n",
        "  print(i , \"\\t\" , j, \"\\t\\t\", k)"
      ],
      "execution_count": 156,
      "outputs": [
        {
          "output_type": "stream",
          "text": [
            "Train-(Dev+Test),   e4:  0.05240776453318211 \n",
            "\n",
            "Rounded Stratify One Hold Out - Test set\n",
            "Linear Regression Accuracy:  0.9475922354668179\n",
            "Linear Regression R^2 score:  0.9213883532002268\n",
            "\n",
            "devTest_pred  \t\t Dev+Test \trounded\n",
            "-0.13285162496975972 \t 0 \t\t 0.0\n",
            "-0.07820915410829629 \t 0 \t\t 0.0\n",
            "-0.07032161660829617 \t 0 \t\t 0.0\n",
            "-0.07013345830551695 \t 0 \t\t 0.0\n",
            "-0.058514325307117476 \t 0 \t\t 0.0\n",
            "-0.05387971144469844 \t 0 \t\t 0.0\n",
            "-0.03619784989086178 \t 0 \t\t 0.0\n",
            "-0.032965918478587486 \t 0 \t\t 0.0\n",
            "-0.010649443062331787 \t 0 \t\t 0.0\n",
            "-0.007315156394797795 \t 0 \t\t 0.0\n",
            "0.008037792110784314 \t 0 \t\t 0.0\n",
            "0.028721442323502322 \t 0 \t\t 0.0\n",
            "0.06479780548363284 \t 0 \t\t 0.0\n",
            "0.1205292330031118 \t 0 \t\t 0.0\n",
            "0.1973000209780516 \t 0 \t\t 0.0\n",
            "0.9246026031663763 \t 1 \t\t 1.0\n",
            "0.9650856574443161 \t 1 \t\t 1.0\n",
            "1.1234455655418274 \t 1 \t\t 1.0\n",
            "1.1431426143517895 \t 1 \t\t 1.0\n",
            "1.1454505351747373 \t 1 \t\t 1.0\n",
            "1.1525396295747607 \t 1 \t\t 1.0\n",
            "1.2081664818301967 \t 1 \t\t 1.0\n",
            "1.2379754059243706 \t 1 \t\t 1.0\n",
            "1.2686790829267514 \t 1 \t\t 1.0\n",
            "1.2807873732505648 \t 1 \t\t 1.0\n",
            "1.304422948078229 \t 1 \t\t 1.0\n",
            "1.344209914511452 \t 1 \t\t 1.0\n",
            "1.3495638284526783 \t 1 \t\t 1.0\n",
            "1.3589608436756495 \t 1 \t\t 1.0\n",
            "1.3951230098832994 \t 1 \t\t 1.0\n",
            "1.472836194801598 \t 2 \t\t 1.0\n",
            "1.603258412217679 \t 2 \t\t 2.0\n",
            "1.6034443505116747 \t 2 \t\t 2.0\n",
            "1.6060532703572574 \t 2 \t\t 2.0\n",
            "1.6930300234158557 \t 2 \t\t 2.0\n",
            "1.698465300387035 \t 2 \t\t 2.0\n",
            "1.7118218338530151 \t 2 \t\t 2.0\n",
            "1.7171735277854578 \t 2 \t\t 2.0\n",
            "1.7520143745729162 \t 2 \t\t 2.0\n",
            "1.7570672894915074 \t 2 \t\t 2.0\n",
            "1.8425030658411172 \t 2 \t\t 2.0\n",
            "1.935299677932266 \t 2 \t\t 2.0\n",
            "2.028926232109409 \t 2 \t\t 2.0\n",
            "2.1644512284880157 \t 2 \t\t 2.0\n",
            "2.1660630614662466 \t 2 \t\t 2.0\n"
          ],
          "name": "stdout"
        }
      ]
    },
    {
      "cell_type": "markdown",
      "metadata": {
        "id": "GjUToaP_i4wD",
        "colab_type": "text"
      },
      "source": [
        "**Predicting [6, 3, 5, 1.5]**"
      ]
    },
    {
      "cell_type": "code",
      "metadata": {
        "id": "czCbG4-KR6ZD",
        "colab_type": "code",
        "colab": {}
      },
      "source": [
        "Y_pred = linReg.predict([[6, 3, 5, 1.5]])\n",
        "rounded = roundPredict(Y_pred.copy())"
      ],
      "execution_count": 0,
      "outputs": []
    },
    {
      "cell_type": "code",
      "metadata": {
        "id": "-s_nKHMuSJqv",
        "colab_type": "code",
        "outputId": "99024702-dd15-4365-b3b9-65aa8f37932d",
        "colab": {
          "base_uri": "https://localhost:8080/",
          "height": 85
        }
      },
      "source": [
        "print(\"Prediction: \\t\\t\",Y_pred)\n",
        "print(\"Predicted class: \\t\", rounded)\n",
        "print(\"Mean squared error: \\t\", metrics.mean_squared_error(rounded, Y_pred))\n",
        "print(\"Mean absolute error: \\t\", metrics.mean_absolute_error(rounded, Y_pred))"
      ],
      "execution_count": 158,
      "outputs": [
        {
          "output_type": "stream",
          "text": [
            "Prediction: \t\t [1.39983899]\n",
            "Predicted class: \t [1.]\n",
            "Mean squared error: \t 0.15987121534579546\n",
            "Mean absolute error: \t 0.3998389867756713\n"
          ],
          "name": "stdout"
        }
      ]
    },
    {
      "cell_type": "markdown",
      "metadata": {
        "id": "1Em11tVCvzAd",
        "colab_type": "text"
      },
      "source": [
        "**ROC**\\\n",
        "Using rounded predictions since linear regression has no ROC."
      ]
    },
    {
      "cell_type": "code",
      "metadata": {
        "id": "X4B7Xf47fd9C",
        "colab_type": "code",
        "outputId": "33cdfd79-f257-4176-b1c9-edd3a6b3ec3a",
        "colab": {
          "base_uri": "https://localhost:8080/",
          "height": 782
        }
      },
      "source": [
        "#calculating the score for roc curve\n",
        "scores=[]\n",
        "\n",
        "for i, j in sorted(zip(devTest_pred, Y_test)):\n",
        "    scores.append(float(j)- i)\n",
        "scores"
      ],
      "execution_count": 159,
      "outputs": [
        {
          "output_type": "execute_result",
          "data": {
            "text/plain": [
              "[0.13285162496975972,\n",
              " 0.07820915410829629,\n",
              " 0.07032161660829617,\n",
              " 0.07013345830551695,\n",
              " 0.058514325307117476,\n",
              " 0.05387971144469844,\n",
              " 0.03619784989086178,\n",
              " 0.032965918478587486,\n",
              " 0.010649443062331787,\n",
              " 0.007315156394797795,\n",
              " -0.008037792110784314,\n",
              " -0.028721442323502322,\n",
              " -0.06479780548363284,\n",
              " -0.1205292330031118,\n",
              " -0.1973000209780516,\n",
              " 0.07539739683362368,\n",
              " 0.03491434255568393,\n",
              " -0.1234455655418274,\n",
              " -0.14314261435178954,\n",
              " -0.14545053517473727,\n",
              " -0.15253962957476075,\n",
              " -0.2081664818301967,\n",
              " -0.2379754059243706,\n",
              " -0.26867908292675136,\n",
              " -0.2807873732505648,\n",
              " -0.304422948078229,\n",
              " -0.3442099145114521,\n",
              " -0.3495638284526783,\n",
              " -0.3589608436756495,\n",
              " -0.3951230098832994,\n",
              " 0.527163805198402,\n",
              " 0.39674158778232105,\n",
              " 0.39655564948832533,\n",
              " 0.3939467296427426,\n",
              " 0.30696997658414427,\n",
              " 0.3015346996129651,\n",
              " 0.2881781661469849,\n",
              " 0.28282647221454216,\n",
              " 0.2479856254270838,\n",
              " 0.24293271050849263,\n",
              " 0.15749693415888277,\n",
              " 0.06470032206773402,\n",
              " -0.02892623210940881,\n",
              " -0.16445122848801574,\n",
              " -0.1660630614662466]"
            ]
          },
          "metadata": {
            "tags": []
          },
          "execution_count": 159
        }
      ]
    },
    {
      "cell_type": "code",
      "metadata": {
        "id": "61U-P59TWpq2",
        "colab_type": "code",
        "outputId": "16ac40ba-2675-4d62-d68d-4086568cb9cd",
        "colab": {
          "base_uri": "https://localhost:8080/",
          "height": 868
        }
      },
      "source": [
        "#Linear Regression ROC calculation\n",
        "\n",
        "#calculating the value according 0, 0 is 1 rest -1\n",
        "roc_0 = Y_test.copy()\n",
        "for i in range(len(Y_test)):\n",
        "    if Y_test[i] != 0: roc_0[i] = -1\n",
        "    else: roc_0[i] = 1\n",
        "\n",
        "#calculating the value according 1, 1 is 1 rest -1\n",
        "roc_1 = Y_test.copy()\n",
        "for i in range(len(Y_test)):\n",
        "    if Y_test[i] != 1: roc_1[i] = -1\n",
        "    else: roc_1[i] = 1\n",
        "\n",
        "#calculating the value according 2, 2 is 1 rest -1\n",
        "roc_2 = Y_test.copy()\n",
        "for i in range(len(Y_test)):\n",
        "    if Y_test[i] != 2: roc_2[i] = -1\n",
        "    else: roc_2[i] = 1\n",
        "\n",
        "#Individual ROC curve calculation\n",
        "#For label 0\n",
        "fpr_0, tpr_0, thresholds = roc_curve(roc_0, scores)\n",
        "roc_auc_0 = auc(fpr_0, tpr_0)\n",
        "\n",
        "#For label 1\n",
        "fpr_1, tpr_1, thresholds = roc_curve(roc_1, scores)\n",
        "roc_auc_1 = auc(fpr_1, tpr_1)\n",
        "\n",
        "#For label 2\n",
        "fpr_2, tpr_2, thresholds = roc_curve(roc_2, scores)\n",
        "roc_auc_2 = auc(fpr_2, tpr_2)\n",
        "\n",
        "#plotting ROC curve individual \n",
        "\n",
        "#For 0\n",
        "displayROC(fpr_0, tpr_0, roc_auc_0)\n",
        "\n",
        "#For 1\n",
        "displayROC(fpr_1, tpr_1, roc_auc_1)\n",
        "\n",
        "#For 2\n",
        "displayROC(fpr_2, tpr_2, roc_auc_2)\n",
        "\n",
        "#Average ROC\n",
        "sum_roc = roc_auc_2 + roc_auc_1 + roc_auc_0\n",
        "sum_roc = sum_roc / 3.0\n",
        "print(\"Average ROC curve (area) score: \", sum_roc)"
      ],
      "execution_count": 160,
      "outputs": [
        {
          "output_type": "display_data",
          "data": {
            "image/png": "[encoded data removed]",
            "text/plain": [
              "<Figure size 432x288 with 1 Axes>"
            ]
          },
          "metadata": {
            "tags": []
          }
        },
        {
          "output_type": "display_data",
          "data": {
            "image/png": "[encoded data removed]",
            "text/plain": [
              "<Figure size 432x288 with 1 Axes>"
            ]
          },
          "metadata": {
            "tags": []
          }
        },
        {
          "output_type": "display_data",
          "data": {
            "image/png": "[encoded data removed]",
            "text/plain": [
              "<Figure size 432x288 with 1 Axes>"
            ]
          },
          "metadata": {
            "tags": []
          }
        },
        {
          "output_type": "stream",
          "text": [
            "Average ROC curve (area) score:  0.5\n"
          ],
          "name": "stdout"
        }
      ]
    },
    {
      "cell_type": "code",
      "metadata": {
        "id": "xofd5CuD_paC",
        "colab_type": "code",
        "colab": {
          "base_uri": "https://localhost:8080/",
          "height": 868
        },
        "outputId": "61677d40-eec5-4387-944e-def144ace814"
      },
      "source": [
        "#Logistic Regression ROC calculation\n",
        "logReg = LogisticRegression(solver='liblinear', multi_class='ovr')\n",
        "logReg.fit(Train_x, Train_y)\n",
        "devTest_pred_log = logReg.predict(X_test)\n",
        "\n",
        "#calculating the score for roc calculation\n",
        "scores=[]\n",
        "\n",
        "for i, j in sorted(zip(devTest_pred_log, Y_test)):\n",
        "    scores.append(float(j)- i)\n",
        "\n",
        "#calculating the value according 0, 0 is 1 rest -1\n",
        "roc_0 = Y_test.copy()\n",
        "for i in range(len(Y_test)):\n",
        "    if Y_test[i] != 0: roc_0[i] = -1\n",
        "    else: roc_0[i] = 1\n",
        "\n",
        "#calculating the value according 1, 1 is 1 rest -1\n",
        "roc_1 = Y_test.copy()\n",
        "for i in range(len(Y_test)):\n",
        "    if Y_test[i] != 1: roc_1[i] = -1\n",
        "    else: roc_1[i] = 1\n",
        "\n",
        "#calculating the value according 2, 2 is 1 rest -1\n",
        "roc_2 = Y_test.copy()\n",
        "for i in range(len(Y_test)):\n",
        "    if Y_test[i] != 2: roc_2[i] = -1\n",
        "    else: roc_2[i] = 1\n",
        "\n",
        "#Individual ROC curve calculation\n",
        "#For label 0\n",
        "fpr_0, tpr_0, thresholds = roc_curve(roc_0, scores)\n",
        "roc_auc_0 = auc(fpr_0, tpr_0)\n",
        "\n",
        "#For label 1\n",
        "fpr_1, tpr_1, thresholds = roc_curve(roc_1, scores)\n",
        "roc_auc_1 = auc(fpr_1, tpr_1)\n",
        "\n",
        "#For label 2\n",
        "fpr_2, tpr_2, thresholds = roc_curve(roc_2, scores)\n",
        "roc_auc_2 = auc(fpr_2, tpr_2)\n",
        "\n",
        "#plotting ROC curve individual \n",
        "\n",
        "#For 0\n",
        "displayROC(fpr_0, tpr_0, roc_auc_0)\n",
        "\n",
        "#For 1\n",
        "displayROC(fpr_1, tpr_1, roc_auc_1)\n",
        "\n",
        "#For 2\n",
        "displayROC(fpr_2, tpr_2, roc_auc_2)\n",
        "\n",
        "#Average ROC\n",
        "sum_roc = roc_auc_2 + roc_auc_1 + roc_auc_0\n",
        "sum_roc = sum_roc / 3.0\n",
        "print(\"Average ROC curve (area) score: \", sum_roc)"
      ],
      "execution_count": 161,
      "outputs": [
        {
          "output_type": "display_data",
          "data": {
            "image/png": "[encoded data removed]",
            "text/plain": [
              "<Figure size 432x288 with 1 Axes>"
            ]
          },
          "metadata": {
            "tags": []
          }
        },
        {
          "output_type": "display_data",
          "data": {
            "image/png": "[encoded data removed]",
            "text/plain": [
              "<Figure size 432x288 with 1 Axes>"
            ]
          },
          "metadata": {
            "tags": []
          }
        },
        {
          "output_type": "display_data",
          "data": {
            "image/png": "[encoded data removed]",
            "text/plain": [
              "<Figure size 432x288 with 1 Axes>"
            ]
          },
          "metadata": {
            "tags": []
          }
        },
        {
          "output_type": "stream",
          "text": [
            "Average ROC curve (area) score:  0.5\n"
          ],
          "name": "stdout"
        }
      ]
    }
  ]
}