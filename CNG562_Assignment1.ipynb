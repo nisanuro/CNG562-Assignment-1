{
  "nbformat": 4,
  "nbformat_minor": 0,
  "metadata": {
    "colab": {
      "name": "CNG562-Assignment1.ipynb",
      "provenance": [],
      "include_colab_link": true
    },
    "kernelspec": {
      "name": "python3",
      "display_name": "Python 3"
    },
    "accelerator": "GPU"
  },
  "cells": [
    {
      "cell_type": "markdown",
      "metadata": {
        "id": "view-in-github",
        "colab_type": "text"
      },
      "source": [
        "<a href=\"https://colab.research.google.com/github/nisanuro/CNG562-Assignment-1/blob/master/CNG562_Assignment1.ipynb\" target=\"_parent\"><img src=\"https://colab.research.google.com/assets/colab-badge.svg\" alt=\"Open In Colab\"/></a>"
      ]
    },
    {
      "cell_type": "markdown",
      "metadata": {
        "id": "UEX_vKmhbU97",
        "colab_type": "text"
      },
      "source": [
        "# **CNG 562 - Assignment #1**\n",
        "\n",
        "Linear Regression vs Logistic Regression using Iris Dataset\\\n",
        "Comparing:\n",
        "*   Random 1-Hold Out\n",
        "*   5-Fold\n",
        "*   10-Fold\n",
        "*   Strafied 1-Hold Out\n",
        "\n",
        "\\\n",
        "Nisa Nur Odabaş\\\n",
        "Kaan Taha Köken\n",
        "\n",
        "---\n",
        "\n"
      ]
    },
    {
      "cell_type": "code",
      "metadata": {
        "id": "A7xb3nOt1MJY",
        "colab_type": "code",
        "colab": {}
      },
      "source": [
        "import matplotlib.pyplot as plt  \n",
        "from sklearn.model_selection import train_test_split, KFold, StratifiedKFold, cross_val_score\n",
        "from sklearn.linear_model import LinearRegression, LogisticRegression\n",
        "from sklearn import metrics, datasets, preprocessing\n",
        "from sklearn.metrics import roc_curve, auc\n",
        "%matplotlib inline"
      ],
      "execution_count": 0,
      "outputs": []
    },
    {
      "cell_type": "markdown",
      "metadata": {
        "id": "rSeSvKNyd4WU",
        "colab_type": "text"
      },
      "source": [
        "**K-Fold method**"
      ]
    },
    {
      "cell_type": "code",
      "metadata": {
        "id": "JNATKa--c7Z0",
        "colab_type": "code",
        "colab": {}
      },
      "source": [
        "def kFold(foldNumber, X_train, Y_train):\n",
        "\n",
        "  kf = KFold(n_splits=foldNumber, shuffle=False)  \n",
        "\n",
        "  logReg = LogisticRegression(solver='liblinear', multi_class='ovr')\n",
        "  linReg = LinearRegression()  \n",
        "\n",
        "  cv_result_log = cross_val_score(logReg, X_train, Y_train, cv=kf, scoring='accuracy')\n",
        "  cv_result_lin = cross_val_score(linReg, X_train, Y_train, cv=kf, scoring='neg_mean_squared_error')\n",
        "\n",
        "  print(str(foldNumber) + \"Fold\")\n",
        "  print(\"Logistic Regression Accuracy: \", cv_result_log.mean())\n",
        "  print(\"Linear Regression Accuracy: \", 1 + cv_result_lin.mean())"
      ],
      "execution_count": 0,
      "outputs": []
    },
    {
      "cell_type": "markdown",
      "metadata": {
        "id": "Tyf75fcUeBB5",
        "colab_type": "text"
      },
      "source": [
        "**Random 1-Hold Out method**"
      ]
    },
    {
      "cell_type": "code",
      "metadata": {
        "id": "4D9wHIq3ceJS",
        "colab_type": "code",
        "colab": {}
      },
      "source": [
        "def randomOneHoldout(X_train, Y_train):\n",
        "\n",
        "  x_train, x_test, y_train, y_test = train_test_split(X_train, Y_train, test_size=0.2, random_state=1)\n",
        "  \n",
        "  logReg = LogisticRegression(solver='liblinear', multi_class='ovr')\n",
        "  linReg = LinearRegression()\n",
        "\n",
        "  logReg.fit(x_train, y_train)\n",
        "  linReg.fit(x_train, y_train)\n",
        "\n",
        "  y_pred_log = logReg.predict(x_test)\n",
        "  y_pred_lin = linReg.predict(x_test)\n",
        "  \n",
        "  print(\"Random One Hold Out\")\n",
        "  print(\"Logistic Regression Accuracy: \", 1 - metrics.mean_squared_error(y_test, y_pred_log))\n",
        "  print(\"Linear Regression Accuracy: \", 1 - metrics.mean_squared_error(y_test, y_pred_lin))"
      ],
      "execution_count": 0,
      "outputs": []
    },
    {
      "cell_type": "markdown",
      "metadata": {
        "id": "pPWS39aXeI6n",
        "colab_type": "text"
      },
      "source": [
        "**Stratified 1-Hold Out method**"
      ]
    },
    {
      "cell_type": "code",
      "metadata": {
        "id": "evz_cnDudAiM",
        "colab_type": "code",
        "colab": {}
      },
      "source": [
        "def stratifiedOneHoldout(X_train, Y_train):\n",
        "  \n",
        "  x_train, x_test, y_train, y_test = train_test_split(X_train, Y_train, test_size=0.2, random_state=1, stratify=Y_train)\n",
        "  \n",
        "  logReg = LogisticRegression(solver='liblinear', multi_class='ovr')\n",
        "  linReg = LinearRegression()\n",
        "\n",
        "  logReg.fit(x_train, y_train)\n",
        "  linReg.fit(x_train, y_train)\n",
        "\n",
        "  y_pred_log = logReg.predict(x_test)\n",
        "  y_pred_lin = linReg.predict(x_test)\n",
        "  \n",
        "  print(\"Stratified\")\n",
        "  print(\"Logistic Regression Accuracy: \", 1 - metrics.mean_squared_error(y_test, y_pred_log))\n",
        "  print(\"Linear Regression Accuracy: \", 1 - metrics.mean_squared_error(y_test, y_pred_lin))"
      ],
      "execution_count": 0,
      "outputs": []
    },
    {
      "cell_type": "markdown",
      "metadata": {
        "id": "D_2B_gqEeOd9",
        "colab_type": "text"
      },
      "source": [
        "**Displaying accuracies for all validation methods**"
      ]
    },
    {
      "cell_type": "code",
      "metadata": {
        "id": "X5LKjla4N3Al",
        "colab_type": "code",
        "colab": {}
      },
      "source": [
        "def displayAccuracy(X, Y):\n",
        "    \n",
        "    X_train, X_test, Y_train, Y_test = train_test_split(X, Y, test_size=0.2, random_state=1)\n",
        "    \n",
        "    kFold(5, X_train, Y_train)    \n",
        "    kFold(10, X_train, Y_train)    \n",
        "    randomOneHoldout(X_train, Y_train)\n",
        "    stratifiedOneHoldout(X_train, Y_train)"
      ],
      "execution_count": 0,
      "outputs": []
    },
    {
      "cell_type": "markdown",
      "metadata": {
        "id": "1fXFXbbvecNi",
        "colab_type": "text"
      },
      "source": [
        "**Round method for linear regression prediction**"
      ]
    },
    {
      "cell_type": "code",
      "metadata": {
        "id": "wxbKsVBDL_ru",
        "colab_type": "code",
        "colab": {}
      },
      "source": [
        "def roundPredict(p):\n",
        "    r = p.copy()\n",
        "    for i in range(len(r)):\n",
        "        if r[i] <= 0.5: r[i] = 0\n",
        "        elif r[i] >= 1.5: r[i] = 2\n",
        "        else: r[i] = 1\n",
        "    return r"
      ],
      "execution_count": 0,
      "outputs": []
    },
    {
      "cell_type": "markdown",
      "metadata": {
        "id": "K-5fN1oyejo-",
        "colab_type": "text"
      },
      "source": [
        "**Main**"
      ]
    },
    {
      "cell_type": "code",
      "metadata": {
        "id": "Rs4klAsSguXu",
        "colab_type": "code",
        "outputId": "d3ddb266-11cd-4c6e-a0b3-a2fab9cc20c4",
        "colab": {
          "base_uri": "https://localhost:8080/",
          "height": 731
        }
      },
      "source": [
        "if __name__ == '__main__':\n",
        "\n",
        "  iris = datasets.load_iris()\n",
        "  \n",
        "  X = iris.data\n",
        "  Y = iris.target\n",
        "  \n",
        "  # L1 normalization\n",
        "  l1_norm = preprocessing.normalize(X, norm=\"l1\")\n",
        "  # Mean removal\n",
        "  mean_removal = preprocessing.scale(X)\n",
        "\n",
        "  '''#mean & standart deviation before mean removal \n",
        "  print(X.mean(axis=0))\n",
        "  print(X.std(axis=0))\n",
        "\n",
        "  #mean & standart deviation after mean removal \n",
        "  print(mean_removal.mean(axis=0))\n",
        "  print(mean_removal.std(axis=0))'''\n",
        "\n",
        "  #Displaying result according to each type of methods and regression model\n",
        "  print(\"\\nRaw: \")\n",
        "  displayAccuracy(X,Y)\n",
        "  print(\"\\nL1 Normalization: \")\n",
        "  displayAccuracy(l1_norm,Y)\n",
        "  print(\"\\nMean Removal: \")\n",
        "  displayAccuracy(mean_removal,Y)"
      ],
      "execution_count": 119,
      "outputs": [
        {
          "output_type": "stream",
          "text": [
            "\n",
            "Raw: \n",
            "5Fold\n",
            "Logistic Regression Accuracy:  0.9416666666666668\n",
            "Linear Regression Accuracy:  0.9505573483173648\n",
            "10Fold\n",
            "Logistic Regression Accuracy:  0.9333333333333332\n",
            "Linear Regression Accuracy:  0.9504757453551504\n",
            "Random One Hold Out\n",
            "Logistic Regression Accuracy:  0.9583333333333334\n",
            "Linear Regression Accuracy:  0.9596940114241354\n",
            "Stratified\n",
            "Logistic Regression Accuracy:  0.9583333333333334\n",
            "Linear Regression Accuracy:  0.9613449341091412\n",
            "\n",
            "L1 Normalization: \n",
            "5Fold\n",
            "Logistic Regression Accuracy:  0.6916666666666667\n",
            "Linear Regression Accuracy:  0.9249382972717285\n",
            "10Fold\n",
            "Logistic Regression Accuracy:  0.6916666666666667\n",
            "Linear Regression Accuracy:  0.9228036562601725\n",
            "Random One Hold Out\n",
            "Logistic Regression Accuracy:  0.75\n",
            "Linear Regression Accuracy:  0.9311930338541666\n",
            "Stratified\n",
            "Logistic Regression Accuracy:  0.7083333333333333\n",
            "Linear Regression Accuracy:  0.9382756551106771\n",
            "\n",
            "Mean Removal: \n",
            "5Fold\n",
            "Logistic Regression Accuracy:  0.8916666666666668\n",
            "Linear Regression Accuracy:  0.9505573483173648\n",
            "10Fold\n",
            "Logistic Regression Accuracy:  0.8833333333333334\n",
            "Linear Regression Accuracy:  0.9504757453551504\n",
            "Random One Hold Out\n",
            "Logistic Regression Accuracy:  1.0\n",
            "Linear Regression Accuracy:  0.9596940114241352\n",
            "Stratified\n",
            "Logistic Regression Accuracy:  0.9166666666666666\n",
            "Linear Regression Accuracy:  0.9613449341091413\n"
          ],
          "name": "stdout"
        }
      ]
    },
    {
      "cell_type": "markdown",
      "metadata": {
        "id": "KwS89vg5fEhF",
        "colab_type": "text"
      },
      "source": [
        "# **Final**\n",
        "**Training and Testing using:**\n",
        "* **Raw data**\n",
        "* **Stratified 1-Hold Out**\n",
        "* **Linear Regression**\n",
        "\n",
        "\n",
        "\n",
        "\n"
      ]
    },
    {
      "cell_type": "markdown",
      "metadata": {
        "id": "1H8jMNi4g1FU",
        "colab_type": "text"
      },
      "source": [
        "**Dividing Train and Test sets**"
      ]
    },
    {
      "cell_type": "code",
      "metadata": {
        "id": "DCRTm6pZg8nN",
        "colab_type": "code",
        "colab": {}
      },
      "source": [
        " X_train, X_test, Y_train, Y_test = train_test_split(X, Y, test_size=0.3, random_state=1, stratify=Y)"
      ],
      "execution_count": 0,
      "outputs": []
    },
    {
      "cell_type": "markdown",
      "metadata": {
        "id": "Xgm3mSbMhJy2",
        "colab_type": "text"
      },
      "source": [
        "**Training**"
      ]
    },
    {
      "cell_type": "code",
      "metadata": {
        "id": "Oow4dOrkUk0y",
        "colab_type": "code",
        "outputId": "4d4ef968-5a24-416e-8312-b742373023e5",
        "colab": {
          "base_uri": "https://localhost:8080/",
          "height": 34
        }
      },
      "source": [
        "  x_train, x_test, y_train, y_test = train_test_split(X_train, Y_train, test_size=0.2, random_state=1, stratify=Y_train)\n",
        " \n",
        "  linReg = LinearRegression()\n",
        "  linReg.fit(x_train, y_train)"
      ],
      "execution_count": 121,
      "outputs": [
        {
          "output_type": "execute_result",
          "data": {
            "text/plain": [
              "LinearRegression(copy_X=True, fit_intercept=True, n_jobs=None, normalize=False)"
            ]
          },
          "metadata": {
            "tags": []
          },
          "execution_count": 121
        }
      ]
    },
    {
      "cell_type": "markdown",
      "metadata": {
        "id": "ZBrwECDVhi94",
        "colab_type": "text"
      },
      "source": [
        "**Testing**"
      ]
    },
    {
      "cell_type": "markdown",
      "metadata": {
        "id": "MBGpYYmvdDRt",
        "colab_type": "text"
      },
      "source": [
        "**Finding Errors for Model**\\\n",
        "Splitting dataset into 4.\n",
        "*   Train\n",
        "*   Train Dev\n",
        "*   Dev\n",
        "*   Test"
      ]
    },
    {
      "cell_type": "code",
      "metadata": {
        "id": "PP1bK9dKPfHT",
        "colab_type": "code",
        "colab": {
          "base_uri": "https://localhost:8080/",
          "height": 493
        },
        "outputId": "dcb87bc8-f703-4c89-ddb4-3f161841dc57"
      },
      "source": [
        "  trainDev_pred = linReg.predict(x_test)\n",
        "  rounded_lin = roundPredict(trainDev_pred)\n",
        "  \n",
        "  print(\"Train-Train Dev,   e1:\", metrics.mean_squared_error(y_test, trainDev_pred),\"\\n\")\n",
        "  print(\"Rounded Stratify One Hold Out - Only train set\")\n",
        "  print(\"Linear Regression Accuracy: \", 1 - metrics.mean_squared_error(y_test, trainDev_pred))\n",
        "  print(\"Linear Regression R^2 score: \", metrics.r2_score(y_test, trainDev_pred))\n",
        "\n",
        "  print(\"\\nY_pred_lin     \\t       Y_test\\trounded\")\n",
        "  for i, (j, k) in sorted(zip(trainDev_pred, zip(y_test, rounded_lin))):\n",
        "    print(i , \"\\t\" , j, \"\\t\", k)"
      ],
      "execution_count": 122,
      "outputs": [
        {
          "output_type": "stream",
          "text": [
            "Train-Train Dev,   e1: 0.0789685015383695 \n",
            "\n",
            "Rounded Stratify One Hold Out - Only train set\n",
            "Linear Regression Accuracy:  0.9210314984616305\n",
            "Linear Regression R^2 score:  0.8815472476924457\n",
            "\n",
            "Y_pred_lin     \t       Y_test\trounded\n",
            "-0.13338533425244264 \t 0 \t 0.0\n",
            "-0.1083659071882706 \t 0 \t 0.0\n",
            "-0.06122542437237788 \t 0 \t 0.0\n",
            "-0.05329118074897954 \t 0 \t 0.0\n",
            "-0.0429126159997677 \t 0 \t 0.0\n",
            "-0.0242791109138423 \t 0 \t 0.0\n",
            "0.0009096628014323427 \t 0 \t 0.0\n",
            "0.8235121047102323 \t 1 \t 1.0\n",
            "0.8780486937147116 \t 1 \t 1.0\n",
            "1.161330224826963 \t 1 \t 1.0\n",
            "1.1870391393881594 \t 1 \t 1.0\n",
            "1.2992859080092798 \t 1 \t 1.0\n",
            "1.3299274028519623 \t 1 \t 1.0\n",
            "1.3879556985627717 \t 1 \t 1.0\n",
            "1.3950051665970737 \t 2 \t 1.0\n",
            "1.416967768397909 \t 2 \t 1.0\n",
            "1.5535486326267118 \t 2 \t 2.0\n",
            "1.6638520161866535 \t 2 \t 2.0\n",
            "1.6638520161866535 \t 2 \t 2.0\n",
            "1.8198963303604019 \t 2 \t 2.0\n",
            "2.0112270682746454 \t 2 \t 2.0\n"
          ],
          "name": "stdout"
        }
      ]
    },
    {
      "cell_type": "code",
      "metadata": {
        "id": "1-4pdzAtLzWC",
        "colab_type": "code",
        "colab": {}
      },
      "source": [
        "Dev_x, Test_x, Dev_y, Test_y = train_test_split(X_test, Y_test, test_size=0.5, random_state=1, stratify=Y_test)"
      ],
      "execution_count": 0,
      "outputs": []
    },
    {
      "cell_type": "code",
      "metadata": {
        "id": "A6tMJf3yRw5L",
        "colab_type": "code",
        "colab": {
          "base_uri": "https://localhost:8080/",
          "height": 510
        },
        "outputId": "5e18d68f-dede-41c3-e027-af4c7db31729"
      },
      "source": [
        "dev_pred = linReg.predict(Dev_x)\n",
        "rounded_lin = roundPredict(dev_pred)\n",
        "\n",
        "print(\"Train-Dev,   e2\", metrics.mean_squared_error(Dev_y, dev_pred),\"\\n\")\n",
        "print(\"Rounded Stratify One Hold Out - Test set\")\n",
        "print(\"Linear Regression Accuracy: \", 1 - metrics.mean_squared_error(Dev_y, dev_pred))\n",
        "print(\"Linear Regression R^2 score: \", metrics.r2_score(Dev_y, dev_pred))\n",
        "\n",
        "print(\"\\nY_pred_lin     \\t      Y_test\\trounded\")\n",
        "for i, (j, k) in sorted(zip(dev_pred, zip(Dev_y, rounded_lin))):\n",
        "    print(i , \"\\t\" , j, \"\\t\", k)"
      ],
      "execution_count": 124,
      "outputs": [
        {
          "output_type": "stream",
          "text": [
            "Train-Dev,   e2 0.04154402265621487 \n",
            "\n",
            "Rounded Stratify One Hold Out - Test set\n",
            "Linear Regression Accuracy:  0.9584559773437852\n",
            "Linear Regression R^2 score:  0.938883565454079\n",
            "\n",
            "Y_pred_lin     \t      Y_test\trounded\n",
            "-0.1451056726255265 \t 0 \t 0.0\n",
            "-0.10091460304061714 \t 0 \t 0.0\n",
            "-0.04522063580412056 \t 0 \t 0.0\n",
            "-0.03300609802608376 \t 0 \t 0.0\n",
            "0.0022514364253043984 \t 0 \t 0.0\n",
            "0.03221849251171449 \t 0 \t 0.0\n",
            "0.03867050514924514 \t 0 \t 0.0\n",
            "0.23727904451950455 \t 0 \t 0.0\n",
            "0.8134542366743358 \t 1 \t 1.0\n",
            "1.107129381276551 \t 1 \t 1.0\n",
            "1.1287122995934598 \t 1 \t 1.0\n",
            "1.14436334611876 \t 1 \t 1.0\n",
            "1.2233068580498874 \t 1 \t 1.0\n",
            "1.2550989944649051 \t 1 \t 1.0\n",
            "1.369974479603694 \t 1 \t 1.0\n",
            "1.5527626257975506 \t 2 \t 2.0\n",
            "1.6955036952396758 \t 2 \t 2.0\n",
            "1.7030733041199 \t 2 \t 2.0\n",
            "1.7195392467634683 \t 2 \t 2.0\n",
            "1.8532104797506117 \t 2 \t 2.0\n",
            "1.9358037851099639 \t 2 \t 2.0\n",
            "2.0041734441998083 \t 2 \t 2.0\n"
          ],
          "name": "stdout"
        }
      ]
    },
    {
      "cell_type": "code",
      "metadata": {
        "id": "IUhWtFNvBupT",
        "colab_type": "code",
        "outputId": "5b9c5c57-1b37-4a0f-d0c8-0d29dc2f1b89",
        "colab": {
          "base_uri": "https://localhost:8080/",
          "height": 527
        }
      },
      "source": [
        "test_pred = linReg.predict(Test_x)\n",
        "rounded_lin = roundPredict(test_pred)\n",
        "\n",
        "\n",
        "print(\"Train-Test,   e3: \", metrics.mean_squared_error(Test_y, test_pred),\"\\n\")\n",
        "print(\"Rounded Stratify One Hold Out - Test set\")\n",
        "print(\"Linear Regression Accuracy: \", 1 - metrics.mean_squared_error(Test_y, test_pred))\n",
        "print(\"Linear Regression R^2 score: \", metrics.r2_score(Test_y, test_pred))\n",
        "\n",
        "print(\"\\nY_pred_lin     \\t      Y_test\\trounded\")\n",
        "for i, (j, k) in sorted(zip(test_pred, zip(Test_y, rounded_lin))):\n",
        "  print(i , \"\\t\" , j, \"\\t\", k)"
      ],
      "execution_count": 125,
      "outputs": [
        {
          "output_type": "stream",
          "text": [
            "Train-Test,   e3:  0.05381451146066997 \n",
            "\n",
            "Rounded Stratify One Hold Out - Test set\n",
            "Linear Regression Accuracy:  0.94618548853933\n",
            "Linear Regression R^2 score:  0.9172445448758884\n",
            "\n",
            "Y_pred_lin     \t      Y_test\trounded\n",
            "-0.09366984691424335 \t 0 \t 0.0\n",
            "-0.06334904878487607 \t 0 \t 0.0\n",
            "-0.051639603112009214 \t 0 \t 0.0\n",
            "-0.037150090859261575 \t 0 \t 0.0\n",
            "-0.029215847235863235 \t 0 \t 0.0\n",
            "-0.001534658324381044 \t 0 \t 0.0\n",
            "0.0894168433635038 \t 0 \t 0.0\n",
            "0.841651410391205 \t 1 \t 1.0\n",
            "0.9431482428602571 \t 1 \t 1.0\n",
            "1.1320305036081524 \t 1 \t 1.0\n",
            "1.2178650296226965 \t 1 \t 1.0\n",
            "1.2823039805603245 \t 1 \t 1.0\n",
            "1.2941689323359389 \t 1 \t 1.0\n",
            "1.3312624398161523 \t 1 \t 1.0\n",
            "1.3581508852387913 \t 1 \t 1.0\n",
            "1.4436785550883753 \t 2 \t 1.0\n",
            "1.573519755295974 \t 2 \t 2.0\n",
            "1.7337478442922245 \t 2 \t 2.0\n",
            "1.738835930676458 \t 2 \t 2.0\n",
            "1.7658208954312336 \t 2 \t 2.0\n",
            "1.9108808773779289 \t 2 \t 2.0\n",
            "1.9344578554455574 \t 2 \t 2.0\n",
            "2.130589028360361 \t 2 \t 2.0\n"
          ],
          "name": "stdout"
        }
      ]
    },
    {
      "cell_type": "code",
      "metadata": {
        "id": "43p8lSuCPCJb",
        "colab_type": "code",
        "colab": {
          "base_uri": "https://localhost:8080/",
          "height": 901
        },
        "outputId": "0f5a8728-e726-4edb-e23e-c2227224e49a"
      },
      "source": [
        "devTest_pred = linReg.predict(X_test)\n",
        "rounded_lin = roundPredict(devTest_pred)\n",
        "\n",
        "\n",
        "print(\"Train-(Dev+Test),   e4: \", metrics.mean_squared_error(Y_test, devTest_pred),\"\\n\")\n",
        "print(\"Rounded Stratify One Hold Out - Test set\")\n",
        "print(\"Linear Regression Accuracy: \", 1 - metrics.mean_squared_error(Y_test, devTest_pred))\n",
        "print(\"Linear Regression R^2 score: \", metrics.r2_score(Y_test, devTest_pred))\n",
        "\n",
        "print(\"\\nY_pred_lin     \\t      Y_test\\trounded\")\n",
        "for i, (j, k) in sorted(zip(devTest_pred, zip(Y_test, rounded_lin))):\n",
        "  print(i , \"\\t\" , j, \"\\t\", k)"
      ],
      "execution_count": 126,
      "outputs": [
        {
          "output_type": "stream",
          "text": [
            "Train-(Dev+Test),   e4:  0.04781560582293637 \n",
            "\n",
            "Rounded Stratify One Hold Out - Test set\n",
            "Linear Regression Accuracy:  0.9521843941770636\n",
            "Linear Regression R^2 score:  0.9282765912655955\n",
            "\n",
            "Y_pred_lin     \t      Y_test\trounded\n",
            "-0.1451056726255265 \t 0 \t 0.0\n",
            "-0.10091460304061714 \t 0 \t 0.0\n",
            "-0.09366984691424335 \t 0 \t 0.0\n",
            "-0.06334904878487607 \t 0 \t 0.0\n",
            "-0.051639603112009214 \t 0 \t 0.0\n",
            "-0.04522063580412056 \t 0 \t 0.0\n",
            "-0.037150090859261575 \t 0 \t 0.0\n",
            "-0.03300609802608376 \t 0 \t 0.0\n",
            "-0.029215847235863235 \t 0 \t 0.0\n",
            "-0.001534658324381044 \t 0 \t 0.0\n",
            "0.0022514364253043984 \t 0 \t 0.0\n",
            "0.03221849251171449 \t 0 \t 0.0\n",
            "0.03867050514924514 \t 0 \t 0.0\n",
            "0.0894168433635038 \t 0 \t 0.0\n",
            "0.23727904451950455 \t 0 \t 0.0\n",
            "0.8134542366743358 \t 1 \t 1.0\n",
            "0.841651410391205 \t 1 \t 1.0\n",
            "0.9431482428602571 \t 1 \t 1.0\n",
            "1.107129381276551 \t 1 \t 1.0\n",
            "1.1287122995934598 \t 1 \t 1.0\n",
            "1.1320305036081524 \t 1 \t 1.0\n",
            "1.14436334611876 \t 1 \t 1.0\n",
            "1.2178650296226965 \t 1 \t 1.0\n",
            "1.2233068580498874 \t 1 \t 1.0\n",
            "1.2550989944649051 \t 1 \t 1.0\n",
            "1.2823039805603245 \t 1 \t 1.0\n",
            "1.2941689323359389 \t 1 \t 1.0\n",
            "1.3312624398161523 \t 1 \t 1.0\n",
            "1.3581508852387913 \t 1 \t 1.0\n",
            "1.369974479603694 \t 1 \t 1.0\n",
            "1.4436785550883753 \t 2 \t 1.0\n",
            "1.5527626257975506 \t 2 \t 2.0\n",
            "1.573519755295974 \t 2 \t 2.0\n",
            "1.6955036952396758 \t 2 \t 2.0\n",
            "1.7030733041199 \t 2 \t 2.0\n",
            "1.7195392467634683 \t 2 \t 2.0\n",
            "1.7337478442922245 \t 2 \t 2.0\n",
            "1.738835930676458 \t 2 \t 2.0\n",
            "1.7658208954312336 \t 2 \t 2.0\n",
            "1.8532104797506117 \t 2 \t 2.0\n",
            "1.9108808773779289 \t 2 \t 2.0\n",
            "1.9344578554455574 \t 2 \t 2.0\n",
            "1.9358037851099639 \t 2 \t 2.0\n",
            "2.0041734441998083 \t 2 \t 2.0\n",
            "2.130589028360361 \t 2 \t 2.0\n"
          ],
          "name": "stdout"
        }
      ]
    },
    {
      "cell_type": "markdown",
      "metadata": {
        "id": "GjUToaP_i4wD",
        "colab_type": "text"
      },
      "source": [
        "**Predicting [6, 3, 5, 1.5]**"
      ]
    },
    {
      "cell_type": "code",
      "metadata": {
        "id": "czCbG4-KR6ZD",
        "colab_type": "code",
        "colab": {}
      },
      "source": [
        "Y_pred = linReg.predict([[6, 3, 5, 1.5]])\n",
        "rounded = roundPredict(Y_pred.copy())"
      ],
      "execution_count": 0,
      "outputs": []
    },
    {
      "cell_type": "code",
      "metadata": {
        "id": "-s_nKHMuSJqv",
        "colab_type": "code",
        "outputId": "8734f40a-a7bc-4a65-912d-4f3709863ef0",
        "colab": {
          "base_uri": "https://localhost:8080/",
          "height": 85
        }
      },
      "source": [
        "print(\"Prediction: \\t\\t\",Y_pred)\n",
        "print(\"Predicted class: \\t\", rounded)\n",
        "print(\"Mean squared error: \\t\", metrics.mean_squared_error(rounded, Y_pred))\n",
        "print(\"Mean absolute error: \\t\", metrics.mean_absolute_error(rounded, Y_pred))"
      ],
      "execution_count": 128,
      "outputs": [
        {
          "output_type": "stream",
          "text": [
            "Prediction: \t\t [1.35496898]\n",
            "Predicted class: \t [1.]\n",
            "Mean squared error: \t 0.1260029785694296\n",
            "Mean absolute error: \t 0.3549689825455593\n"
          ],
          "name": "stdout"
        }
      ]
    },
    {
      "cell_type": "markdown",
      "metadata": {
        "id": "1Em11tVCvzAd",
        "colab_type": "text"
      },
      "source": [
        "**ROC**\\\n",
        "Using rounded predictions since linear regression has no ROC."
      ]
    },
    {
      "cell_type": "code",
      "metadata": {
        "id": "X4B7Xf47fd9C",
        "colab_type": "code",
        "colab": {
          "base_uri": "https://localhost:8080/",
          "height": 34
        },
        "outputId": "4ec32fa6-801a-4c0b-d00e-7c749ab21593"
      },
      "source": [
        "'''scores=[]\n",
        "\n",
        "for i, j in sorted(zip(devTest_pred, Y_test)):\n",
        "    scores.append(abs(float(j)- i))\n",
        "scores'''"
      ],
      "execution_count": 129,
      "outputs": [
        {
          "output_type": "execute_result",
          "data": {
            "text/plain": [
              "'scores=[]\\n\\nfor i, j in sorted(zip(devTest_pred, Y_test)):\\n    scores.append(abs(float(j)- i))\\nscores'"
            ]
          },
          "metadata": {
            "tags": []
          },
          "execution_count": 129
        }
      ]
    },
    {
      "cell_type": "code",
      "metadata": {
        "id": "61U-P59TWpq2",
        "colab_type": "code",
        "outputId": "d27a5800-f1fd-4828-a9ba-81baa64f839a",
        "colab": {
          "base_uri": "https://localhost:8080/",
          "height": 54
        }
      },
      "source": [
        "'''#Prediction of the model\n",
        "fpr = dict()\n",
        "tpr = dict()\n",
        "roc_auc = dict()\n",
        "for i in range(3):\n",
        "    fpr[i], tpr[i], thresholds = roc_curve(Y_test[:, i], rounded_lin[:, i])\n",
        "    roc_auc[i] = auc(fpr[i], tpr[i])\n",
        "\n",
        "for i in range(n_classes):\n",
        "    plt.figure()\n",
        "    plt.plot(fpr[i], tpr[i], label='ROC curve (area = %0.2f)' % roc_auc[i])\n",
        "    plt.plot([0, 1], [0, 1], 'k--')\n",
        "    plt.xlim([0.0, 1.0])\n",
        "    plt.ylim([0.0, 1.05])\n",
        "    plt.xlabel('False Positive Rate')\n",
        "    plt.ylabel('True Positive Rate')\n",
        "    plt.title('Receiver operating characteristic example')\n",
        "    plt.legend(loc=\"lower right\")\n",
        "    plt.show()'''\n"
      ],
      "execution_count": 130,
      "outputs": [
        {
          "output_type": "execute_result",
          "data": {
            "text/plain": [
              "'#Prediction of the model\\nfpr = dict()\\ntpr = dict()\\nroc_auc = dict()\\nfor i in range(3):\\n    fpr[i], tpr[i], thresholds = roc_curve(Y_test[:, i], rounded_lin[:, i])\\n    roc_auc[i] = auc(fpr[i], tpr[i])\\n\\nfor i in range(n_classes):\\n    plt.figure()\\n    plt.plot(fpr[i], tpr[i], label=\\'ROC curve (area = %0.2f)\\' % roc_auc[i])\\n    plt.plot([0, 1], [0, 1], \\'k--\\')\\n    plt.xlim([0.0, 1.0])\\n    plt.ylim([0.0, 1.05])\\n    plt.xlabel(\\'False Positive Rate\\')\\n    plt.ylabel(\\'True Positive Rate\\')\\n    plt.title(\\'Receiver operating characteristic example\\')\\n    plt.legend(loc=\"lower right\")\\n    plt.show()'"
            ]
          },
          "metadata": {
            "tags": []
          },
          "execution_count": 130
        }
      ]
    },
    {
      "cell_type": "code",
      "metadata": {
        "id": "Lv3gtMxbeBoJ",
        "colab_type": "code",
        "colab": {
          "base_uri": "https://localhost:8080/",
          "height": 54
        },
        "outputId": "51aaf2b7-1d11-4de0-8488-35c87d8ab63b"
      },
      "source": [
        "'''import numpy as np\n",
        "import matplotlib.pyplot as plt\n",
        "from itertools import cycle\n",
        "\n",
        "from sklearn import svm, datasets\n",
        "from sklearn.metrics import roc_curve, auc\n",
        "from sklearn.model_selection import train_test_split\n",
        "from sklearn.preprocessing import label_binarize\n",
        "from sklearn.multiclass import OneVsRestClassifier\n",
        "from scipy import interp\n",
        "from sklearn.metrics import roc_auc_score\n",
        "\n",
        "\n",
        "# Import some data to play with\n",
        "iris = datasets.load_iris()\n",
        "X = iris.data\n",
        "y = iris.target\n",
        "\n",
        "# Binarize the output\n",
        "y = label_binarize(y, classes=[0, 1, 2])\n",
        "n_classes = y.shape[1]\n",
        "\n",
        "# Add noisy features to make the problem harder\n",
        "random_state = np.random.RandomState(0)\n",
        "n_samples, n_features = X.shape\n",
        "X = np.c_[X, random_state.randn(n_samples, 200 * n_features)]\n",
        "\n",
        "# shuffle and split training and test sets\n",
        "X_train, X_test, y_train, y_test = train_test_split(X, y, test_size=.5,\n",
        "                                                    random_state=0)\n",
        "\n",
        "# Learn to predict each class against the other\n",
        "classifier = OneVsRestClassifier(svm.SVC(kernel='linear', probability=True,\n",
        "                                 random_state=random_state))\n",
        "y_score = classifier.fit(X_train, y_train).decision_function(X_test)\n",
        "print(y_score)\n",
        "# Compute ROC curve and ROC area for each class\n",
        "#fpr = dict()\n",
        "#tpr = dict()\n",
        "#roc_auc = dict()\n",
        "for i in range(n_classes):\n",
        "    print(y_score[:, i])\n",
        "    fpr[i], tpr[i], _ = roc_curve(y_test[:, i], y_score[:, i])\n",
        "    roc_auc[i] = auc(fpr[i], tpr[i])\n",
        "\n",
        "#fpr, tpr, _ = roc_curve(, y_score[:, i])\n",
        "#roc_auc = auc(fpr, tpr)\n",
        "# Compute micro-average ROC curve and ROC area\n",
        "#fpr[\"micro\"], tpr[\"micro\"], _ = roc_curve(y_test.ravel(), y_score.ravel())\n",
        "#roc_auc[\"micro\"] = auc(fpr[\"micro\"], tpr[\"micro\"])'''"
      ],
      "execution_count": 131,
      "outputs": [
        {
          "output_type": "execute_result",
          "data": {
            "text/plain": [
              "'import numpy as np\\nimport matplotlib.pyplot as plt\\nfrom itertools import cycle\\n\\nfrom sklearn import svm, datasets\\nfrom sklearn.metrics import roc_curve, auc\\nfrom sklearn.model_selection import train_test_split\\nfrom sklearn.preprocessing import label_binarize\\nfrom sklearn.multiclass import OneVsRestClassifier\\nfrom scipy import interp\\nfrom sklearn.metrics import roc_auc_score\\n\\n\\n# Import some data to play with\\niris = datasets.load_iris()\\nX = iris.data\\ny = iris.target\\n\\n# Binarize the output\\ny = label_binarize(y, classes=[0, 1, 2])\\nn_classes = y.shape[1]\\n\\n# Add noisy features to make the problem harder\\nrandom_state = np.random.RandomState(0)\\nn_samples, n_features = X.shape\\nX = np.c_[X, random_state.randn(n_samples, 200 * n_features)]\\n\\n# shuffle and split training and test sets\\nX_train, X_test, y_train, y_test = train_test_split(X, y, test_size=.5,\\n                                                    random_state=0)\\n\\n# Learn to predict each class against the other\\nclassifier = OneVsRestClassifier(svm.SVC(kernel=\\'linear\\', probability=True,\\n                                 random_state=random_state))\\ny_score = classifier.fit(X_train, y_train).decision_function(X_test)\\nprint(y_score)\\n# Compute ROC curve and ROC area for each class\\n#fpr = dict()\\n#tpr = dict()\\n#roc_auc = dict()\\nfor i in range(n_classes):\\n    print(y_score[:, i])\\n    fpr[i], tpr[i], _ = roc_curve(y_test[:, i], y_score[:, i])\\n    roc_auc[i] = auc(fpr[i], tpr[i])\\n\\n#fpr, tpr, _ = roc_curve(, y_score[:, i])\\n#roc_auc = auc(fpr, tpr)\\n# Compute micro-average ROC curve and ROC area\\n#fpr[\"micro\"], tpr[\"micro\"], _ = roc_curve(y_test.ravel(), y_score.ravel())\\n#roc_auc[\"micro\"] = auc(fpr[\"micro\"], tpr[\"micro\"])'"
            ]
          },
          "metadata": {
            "tags": []
          },
          "execution_count": 131
        }
      ]
    }
  ]
}