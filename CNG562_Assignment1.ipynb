{
  "nbformat": 4,
  "nbformat_minor": 0,
  "metadata": {
    "colab": {
      "name": "CNG562-Assignment1.ipynb",
      "provenance": [],
      "include_colab_link": true
    },
    "kernelspec": {
      "name": "python3",
      "display_name": "Python 3"
    },
    "accelerator": "GPU"
  },
  "cells": [
    {
      "cell_type": "markdown",
      "metadata": {
        "id": "view-in-github",
        "colab_type": "text"
      },
      "source": [
        "<a href=\"https://colab.research.google.com/github/nisanuro/CNG562-Assignment-1/blob/master/CNG562_Assignment1.ipynb\" target=\"_parent\"><img src=\"https://colab.research.google.com/assets/colab-badge.svg\" alt=\"Open In Colab\"/></a>"
      ]
    },
    {
      "cell_type": "code",
      "metadata": {
        "id": "A7xb3nOt1MJY",
        "colab_type": "code",
        "colab": {}
      },
      "source": [
        "import matplotlib.pyplot as plt  \n",
        "from sklearn.model_selection import train_test_split, KFold, StratifiedKFold, cross_val_score\n",
        "from sklearn.linear_model import LinearRegression, LogisticRegression\n",
        "from sklearn import metrics, datasets, preprocessing\n",
        "from sklearn.metrics import roc_curve, auc\n",
        "%matplotlib inline"
      ],
      "execution_count": 0,
      "outputs": []
    },
    {
      "cell_type": "code",
      "metadata": {
        "id": "JNATKa--c7Z0",
        "colab_type": "code",
        "colab": {}
      },
      "source": [
        "def kFold(foldNumber, X_train, Y_train):\n",
        "  #creating cross validation method with according to foldNumber\n",
        "  kf = KFold(n_splits=foldNumber, shuffle=False)\n",
        "  \n",
        "  #creating both linear & logistic regression models\n",
        "  logReg = LogisticRegression(solver='liblinear', multi_class='ovr')\n",
        "  linReg = LinearRegression()\n",
        "  \n",
        "  #getting cross validation score according to logistic & linear\n",
        "  cv_result_log = cross_val_score(logReg, X_train, Y_train, cv=kf, scoring='accuracy')\n",
        "  cv_result_lin = cross_val_score(linReg, X_train, Y_train, cv=kf, scoring='neg_mean_squared_error')\n",
        "\n",
        "  #displaying results\n",
        "  print(str(foldNumber) + \"Fold\")\n",
        "  print(\"Logistic Regression Accuracy: \", cv_result_log.mean())\n",
        "  print(\"Linear Regression Accuracy: \", 1 + cv_result_lin.mean())"
      ],
      "execution_count": 0,
      "outputs": []
    },
    {
      "cell_type": "code",
      "metadata": {
        "id": "4D9wHIq3ceJS",
        "colab_type": "code",
        "colab": {}
      },
      "source": [
        "def randomOneHoldout(X_train, Y_train):\n",
        "  #splitting dataset as %80 train %20 test\n",
        "  x_train, x_test, y_train, y_test = train_test_split(X_train, Y_train, test_size=0.2, random_state=1)\n",
        "  \n",
        "  #creating both linear & logistic regression models\n",
        "  logReg = LogisticRegression(solver='liblinear', multi_class='ovr')\n",
        "  linReg = LinearRegression()\n",
        "\n",
        "  #training the models\n",
        "  logReg.fit(x_train, y_train)\n",
        "  linReg.fit(x_train, y_train)\n",
        "\n",
        "  #predicting values \n",
        "  y_pred_log = logReg.predict(x_test)\n",
        "  y_pred_lin = linReg.predict(x_test)\n",
        "  \n",
        "  #displaying results\n",
        "  print(\"Random One Hold Out\")\n",
        "  print(\"Logistic Regression Accuracy: \", 1 - metrics.mean_squared_error(y_test, y_pred_log))\n",
        "  print(\"Linear Regression Accuracy: \", 1 - metrics.mean_squared_error(y_test, y_pred_lin))\n"
      ],
      "execution_count": 0,
      "outputs": []
    },
    {
      "cell_type": "code",
      "metadata": {
        "id": "_izFyfhrTwyn",
        "colab_type": "code",
        "colab": {}
      },
      "source": [
        ""
      ],
      "execution_count": 0,
      "outputs": []
    },
    {
      "cell_type": "code",
      "metadata": {
        "id": "evz_cnDudAiM",
        "colab_type": "code",
        "colab": {}
      },
      "source": [
        "def stratifiedOneHoldout(X_train, Y_train):\n",
        "  #splitting dataset as %80 train %20 test\n",
        "  x_train, x_test, y_train, y_test = train_test_split(X_train, Y_train, test_size=0.2, random_state=1, stratify=Y_train)\n",
        "  \n",
        "  #creating both linear & logistic regression models\n",
        "  logReg = LogisticRegression(solver='liblinear', multi_class='ovr')\n",
        "  linReg = LinearRegression()\n",
        "\n",
        "  #training the models\n",
        "  logReg.fit(x_train, y_train)\n",
        "  linReg.fit(x_train, y_train)\n",
        "\n",
        "  #predicting values \n",
        "  y_pred_log = logReg.predict(x_test)\n",
        "  y_pred_lin = linReg.predict(x_test)\n",
        "  \n",
        "  #displaying results\n",
        "  print(\"Stratified\")\n",
        "  print(\"Logistic Regression Accuracy: \", 1 - metrics.mean_squared_error(y_test, y_pred_log))\n",
        "  print(\"Linear Regression Accuracy: \", 1 - metrics.mean_squared_error(y_test, y_pred_lin))"
      ],
      "execution_count": 0,
      "outputs": []
    },
    {
      "cell_type": "code",
      "metadata": {
        "id": "X5LKjla4N3Al",
        "colab_type": "code",
        "colab": {}
      },
      "source": [
        "def displayAccuracy(X, Y):\n",
        "    #splitting dataset as %80 train %20 test\n",
        "    X_train, X_test, Y_train, Y_test = train_test_split(X, Y, test_size=0.2, random_state=1)\n",
        "    \n",
        "    #running kFold accuracy method as 5Fold\n",
        "    kFold(5, X_train, Y_train)\n",
        "    #running kFold accuracy method as 10Fold\n",
        "    kFold(10, X_train, Y_train)\n",
        "    #running random one holdout method\n",
        "    randomOneHoldout(X_train, Y_train)\n",
        "    #running strafied one holdout method\n",
        "    stratifiedOneHoldout(X_train, Y_train)"
      ],
      "execution_count": 0,
      "outputs": []
    },
    {
      "cell_type": "code",
      "metadata": {
        "id": "wxbKsVBDL_ru",
        "colab_type": "code",
        "colab": {}
      },
      "source": [
        "def roundPredict(p):\n",
        "    r = p.copy()\n",
        "    for i in range(len(r)):\n",
        "        if r[i] <= 0.5: r[i] = 0\n",
        "        elif r[i] >= 1.5: r[i] = 2\n",
        "        else: r[i] = 1\n",
        "    return r"
      ],
      "execution_count": 0,
      "outputs": []
    },
    {
      "cell_type": "code",
      "metadata": {
        "id": "XTg4V0rYWUoF",
        "colab_type": "code",
        "colab": {}
      },
      "source": [
        "#iris_data.mean(axis=0)\n",
        "#iris_data.std(axis=0)"
      ],
      "execution_count": 0,
      "outputs": []
    },
    {
      "cell_type": "code",
      "metadata": {
        "id": "oeUjkVzuWfnF",
        "colab_type": "code",
        "colab": {}
      },
      "source": [
        "#stand_iris_data = preprocessing.scale(iris_data)"
      ],
      "execution_count": 0,
      "outputs": []
    },
    {
      "cell_type": "code",
      "metadata": {
        "id": "j-poO-K3WhCN",
        "colab_type": "code",
        "colab": {}
      },
      "source": [
        "#stand_iris_data.mean(axis=0)\n",
        "#stand_iris_data.std(axis=0)"
      ],
      "execution_count": 0,
      "outputs": []
    },
    {
      "cell_type": "code",
      "metadata": {
        "id": "DFXiNyrDsAQa",
        "colab_type": "code",
        "colab": {}
      },
      "source": [
        "\n"
      ],
      "execution_count": 0,
      "outputs": []
    },
    {
      "cell_type": "code",
      "metadata": {
        "id": "Rs4klAsSguXu",
        "colab_type": "code",
        "outputId": "48b4d2a6-b166-45d1-af47-a1a070a706a5",
        "colab": {
          "base_uri": "https://localhost:8080/",
          "height": 790
        }
      },
      "source": [
        "if __name__ == '__main__':\n",
        "  #loading raw iris dataset\n",
        "  iris = datasets.load_iris()\n",
        "  #loading raw iris data from dataset\n",
        "  X = iris.data\n",
        "  #loading iris titles from dataset \n",
        "  Y = iris.target\n",
        "  \n",
        "  #normalize raw data using L1 normalization technique\n",
        "  l1_norm = preprocessing.normalize(X, norm=\"l1\")\n",
        "  #normalize raw data using mean removal technique\n",
        "  mean_removal = preprocessing.scale(X)\n",
        "  \n",
        "  #mean & standart deviation before mean removal \n",
        "  print(X.mean(axis=0))\n",
        "  print(X.std(axis=0))\n",
        "\n",
        "  #mean & standart deviation after mean removal \n",
        "  print(mean_removal.mean(axis=0))\n",
        "  print(mean_removal.std(axis=0))\n",
        "\n",
        "  #Displaying result according to each type of methods and regression model\n",
        "  print(\"\\nRaw: \")\n",
        "  displayAccuracy(X,Y)\n",
        "  print(\"\\nL1 Normalization: \")\n",
        "  displayAccuracy(l1_norm,Y)\n",
        "  print(\"\\nMean Removal: \")\n",
        "  displayAccuracy(mean_removal,Y)\n",
        "\n"
      ],
      "execution_count": 233,
      "outputs": [
        {
          "output_type": "stream",
          "text": [
            "[5.84333333 3.05733333 3.758      1.19933333]\n",
            "[0.82530129 0.43441097 1.75940407 0.75969263]\n",
            "[-1.69031455e-15 -1.84297022e-15 -1.69864123e-15 -1.40924309e-15]\n",
            "[1. 1. 1. 1.]\n",
            "\n",
            "Raw: \n",
            "5Fold\n",
            "Logistic Regression Accuracy:  0.9416666666666668\n",
            "Linear Regression Accuracy:  0.9505573483173648\n",
            "10Fold\n",
            "Logistic Regression Accuracy:  0.9333333333333332\n",
            "Linear Regression Accuracy:  0.9504757453551504\n",
            "Random One Hold Out\n",
            "Logistic Regression Accuracy:  0.9583333333333334\n",
            "Linear Regression Accuracy:  0.9596940114241354\n",
            "Stratified\n",
            "Logistic Regression Accuracy:  0.9583333333333334\n",
            "Linear Regression Accuracy:  0.9613449341091412\n",
            "\n",
            "L1 Normalization: \n",
            "5Fold\n",
            "Logistic Regression Accuracy:  0.6916666666666667\n",
            "Linear Regression Accuracy:  0.9249382972717285\n",
            "10Fold\n",
            "Logistic Regression Accuracy:  0.6916666666666667\n",
            "Linear Regression Accuracy:  0.9228036562601725\n",
            "Random One Hold Out\n",
            "Logistic Regression Accuracy:  0.75\n",
            "Linear Regression Accuracy:  0.9311930338541666\n",
            "Stratified\n",
            "Logistic Regression Accuracy:  0.7083333333333333\n",
            "Linear Regression Accuracy:  0.9382756551106771\n",
            "\n",
            "Mean Removal: \n",
            "5Fold\n",
            "Logistic Regression Accuracy:  0.8916666666666668\n",
            "Linear Regression Accuracy:  0.9505573483173648\n",
            "10Fold\n",
            "Logistic Regression Accuracy:  0.8833333333333334\n",
            "Linear Regression Accuracy:  0.9504757453551504\n",
            "Random One Hold Out\n",
            "Logistic Regression Accuracy:  1.0\n",
            "Linear Regression Accuracy:  0.9596940114241352\n",
            "Stratified\n",
            "Logistic Regression Accuracy:  0.9166666666666666\n",
            "Linear Regression Accuracy:  0.9613449341091413\n"
          ],
          "name": "stdout"
        }
      ]
    },
    {
      "cell_type": "code",
      "metadata": {
        "id": "A6tMJf3yRw5L",
        "colab_type": "code",
        "colab": {}
      },
      "source": [
        "  X_train, X_test, Y_train, Y_test = train_test_split(X, Y, test_size=0.3, random_state=1, stratify=Y)\n",
        " \n",
        "  linReg = LinearRegression()\n",
        "  logReg = LogisticRegression(solver='liblinear', multi_class='ovr')\n",
        "  \n",
        "  linReg.fit(X_train, Y_train)\n",
        "  logReg.fit(X_train, Y_train)\n",
        "  #[[6, 3, 5, 1.5]]\n",
        "  Y_pred_lin = linReg.predict(X_test)\n",
        "  #Y_pred_log = logReg.predict([[5.8, 4. , 1.2, 0.2]])"
      ],
      "execution_count": 0,
      "outputs": []
    },
    {
      "cell_type": "code",
      "metadata": {
        "id": "kJbCeyf2L8tP",
        "colab_type": "code",
        "colab": {}
      },
      "source": [
        "rounded = roundPredict(Y_pred_lin)"
      ],
      "execution_count": 0,
      "outputs": []
    },
    {
      "cell_type": "code",
      "metadata": {
        "id": "IUhWtFNvBupT",
        "colab_type": "code",
        "outputId": "563f1409-9f58-4c75-e657-396758f0f1cf",
        "colab": {
          "base_uri": "https://localhost:8080/",
          "height": 790
        }
      },
      "source": [
        "print(\"Y_pred_lin     \\t      Y_test\\trounded\")\n",
        "for i, (j, k) in sorted(zip(Y_pred_lin, zip(Y_test, rounded))):\n",
        "  print(i , \"\\t\" , j, \"\\t\", k)\n"
      ],
      "execution_count": 236,
      "outputs": [
        {
          "output_type": "stream",
          "text": [
            "Y_pred_lin     \t      Y_test\trounded\n",
            "-0.12929078285095597 \t 0 \t 0.0\n",
            "-0.07564877833579955 \t 0 \t 0.0\n",
            "-0.06637327075692942 \t 0 \t 0.0\n",
            "-0.06559310558079762 \t 0 \t 0.0\n",
            "-0.03613839155352583 \t 0 \t 0.0\n",
            "-0.03256604997617557 \t 0 \t 0.0\n",
            "-0.01928245835782255 \t 0 \t 0.0\n",
            "-0.017406169009531847 \t 0 \t 0.0\n",
            "-0.014015034818435357 \t 0 \t 0.0\n",
            "-0.008446620426688894 \t 0 \t 0.0\n",
            "-0.0036763632695827053 \t 0 \t 0.0\n",
            "0.007758432451428959 \t 0 \t 0.0\n",
            "0.01806864028230959 \t 0 \t 0.0\n",
            "0.06901382278559495 \t 0 \t 0.0\n",
            "0.20549801076730095 \t 0 \t 0.0\n",
            "0.8510624563461295 \t 1 \t 1.0\n",
            "0.8628810720015663 \t 1 \t 1.0\n",
            "1.0006874555133378 \t 1 \t 1.0\n",
            "1.1202817798301417 \t 1 \t 1.0\n",
            "1.1655292630831342 \t 1 \t 1.0\n",
            "1.1721089189171559 \t 1 \t 1.0\n",
            "1.1746180965245236 \t 1 \t 1.0\n",
            "1.2210814874157805 \t 1 \t 1.0\n",
            "1.2311710906399813 \t 1 \t 1.0\n",
            "1.266328970668773 \t 1 \t 1.0\n",
            "1.3220728740471366 \t 1 \t 1.0\n",
            "1.323294248436628 \t 1 \t 1.0\n",
            "1.346446838672502 \t 1 \t 1.0\n",
            "1.3827632370606238 \t 1 \t 1.0\n",
            "1.383481978316607 \t 1 \t 1.0\n",
            "1.490770021988134 \t 2 \t 1.0\n",
            "1.5658740312613317 \t 2 \t 2.0\n",
            "1.6073624987994932 \t 2 \t 2.0\n",
            "1.7056814924957364 \t 2 \t 2.0\n",
            "1.7230739892941465 \t 2 \t 2.0\n",
            "1.7339437576944792 \t 2 \t 2.0\n",
            "1.7497989211073708 \t 2 \t 2.0\n",
            "1.7754376919838672 \t 2 \t 2.0\n",
            "1.8291465871703991 \t 2 \t 2.0\n",
            "1.8456471641496495 \t 2 \t 2.0\n",
            "1.8735880036011379 \t 2 \t 2.0\n",
            "1.915205755997846 \t 2 \t 2.0\n",
            "1.9189702384639042 \t 2 \t 2.0\n",
            "1.9810681881613732 \t 2 \t 2.0\n",
            "2.0906068397231747 \t 2 \t 2.0\n"
          ],
          "name": "stdout"
        }
      ]
    },
    {
      "cell_type": "code",
      "metadata": {
        "id": "QMmI3NRJWfg5",
        "colab_type": "code",
        "outputId": "44980c5c-62ab-4499-cde9-9ffc34b7c560",
        "colab": {
          "base_uri": "https://localhost:8080/",
          "height": 34
        }
      },
      "source": [
        "1 -metrics.mean_squared_error(Y_test, rounded)\n",
        "#Y_pred_lin"
      ],
      "execution_count": 237,
      "outputs": [
        {
          "output_type": "execute_result",
          "data": {
            "text/plain": [
              "0.9777777777777777"
            ]
          },
          "metadata": {
            "tags": []
          },
          "execution_count": 237
        }
      ]
    },
    {
      "cell_type": "code",
      "metadata": {
        "id": "czCbG4-KR6ZD",
        "colab_type": "code",
        "colab": {}
      },
      "source": [
        "Y_pred_lin = linReg.predict([[6, 3, 5, 1.5]])\n",
        "rounded = roundPredict(Y_pred_lin.copy())"
      ],
      "execution_count": 0,
      "outputs": []
    },
    {
      "cell_type": "code",
      "metadata": {
        "id": "-s_nKHMuSJqv",
        "colab_type": "code",
        "outputId": "e27dd7f1-ba2d-4793-a22b-86d4ce4bb976",
        "colab": {
          "base_uri": "https://localhost:8080/",
          "height": 34
        }
      },
      "source": [
        "rounded"
      ],
      "execution_count": 239,
      "outputs": [
        {
          "output_type": "execute_result",
          "data": {
            "text/plain": [
              "array([1.])"
            ]
          },
          "metadata": {
            "tags": []
          },
          "execution_count": 239
        }
      ]
    },
    {
      "cell_type": "markdown",
      "metadata": {
        "id": "uLDFfaTgUmMd",
        "colab_type": "text"
      },
      "source": [
        "Rounded with train set"
      ]
    },
    {
      "cell_type": "code",
      "metadata": {
        "id": "Oow4dOrkUk0y",
        "colab_type": "code",
        "colab": {
          "base_uri": "https://localhost:8080/",
          "height": 622
        },
        "outputId": "9000685d-2812-4d82-e706-9d67b13a7e6b"
      },
      "source": [
        "  x_train, x_test, y_train, y_test = train_test_split(X_train, Y_train, test_size=0.3, random_state=1, stratify=Y_train)\n",
        "\n",
        "  linReg = LinearRegression()\n",
        "\n",
        "  linReg.fit(x_train, y_train)\n",
        "\n",
        "  y_pred_lin = linReg.predict(x_test)\n",
        "  round_lin = roundPredict(y_pred_lin)\n",
        "\n",
        "  print(\"Rounded Stratify One Hold Out - Only train set\")\n",
        "  print(\"Linear Regression Accuracy: \", 1 - metrics.mean_squared_error(y_test, round_lin))\n",
        "\n",
        "  print(\"\\nY_pred_lin     \\t       Y_test\\trounded\")\n",
        "  for i, (j, k) in sorted(zip(y_pred_lin, zip(y_test, round_lin))):\n",
        "    print(i , \"\\t\" , j, \"\\t\", k)"
      ],
      "execution_count": 240,
      "outputs": [
        {
          "output_type": "stream",
          "text": [
            "Rounded Stratify One Hold Out - Only train set\n",
            "Linear Regression Accuracy:  0.90625\n",
            "\n",
            "Y_pred_lin     \t       Y_test\trounded\n",
            "-0.12003692589839096 \t 0 \t 0.0\n",
            "-0.09876468257733288 \t 0 \t 0.0\n",
            "-0.06761673273426298 \t 0 \t 0.0\n",
            "-0.06605430711304593 \t 0 \t 0.0\n",
            "-0.05671651751464296 \t 0 \t 0.0\n",
            "-0.04956319810682974 \t 0 \t 0.0\n",
            "-0.045800804316914134 \t 0 \t 0.0\n",
            "-0.03563775726864826 \t 0 \t 0.0\n",
            "-0.026284469692136492 \t 0 \t 0.0\n",
            "0.020085272234868445 \t 0 \t 0.0\n",
            "0.8068694083069459 \t 1 \t 1.0\n",
            "0.8110913595473883 \t 1 \t 1.0\n",
            "0.8530611651369964 \t 1 \t 1.0\n",
            "1.1169369554310995 \t 1 \t 1.0\n",
            "1.153137882137157 \t 1 \t 1.0\n",
            "1.1636723973574408 \t 1 \t 1.0\n",
            "1.2493091259536646 \t 1 \t 1.0\n",
            "1.2887540977198382 \t 1 \t 1.0\n",
            "1.3012167385606752 \t 1 \t 1.0\n",
            "1.3419522933999206 \t 1 \t 1.0\n",
            "1.3547340317228116 \t 1 \t 1.0\n",
            "1.3769156601394965 \t 2 \t 1.0\n",
            "1.3867130071884262 \t 2 \t 1.0\n",
            "1.3974940285903639 \t 2 \t 1.0\n",
            "1.5242320120251693 \t 2 \t 2.0\n",
            "1.5365828384801437 \t 2 \t 2.0\n",
            "1.6640955152147843 \t 2 \t 2.0\n",
            "1.6640955152147843 \t 2 \t 2.0\n",
            "1.7749921209528452 \t 2 \t 2.0\n",
            "1.8063213651089887 \t 2 \t 2.0\n",
            "1.9771474536129001 \t 2 \t 2.0\n",
            "2.047462112084689 \t 2 \t 2.0\n"
          ],
          "name": "stdout"
        }
      ]
    },
    {
      "cell_type": "markdown",
      "metadata": {
        "id": "1Em11tVCvzAd",
        "colab_type": "text"
      },
      "source": [
        "# Finding Threshold using ROC"
      ]
    },
    {
      "cell_type": "code",
      "metadata": {
        "id": "61U-P59TWpq2",
        "colab_type": "code",
        "outputId": "65c8f450-42a9-46b0-bc28-3581d8283d5d",
        "colab": {
          "base_uri": "https://localhost:8080/",
          "height": 54
        }
      },
      "source": [
        "#Prediction of the model\n",
        "'''fpr = dict()\n",
        "tpr = dict()\n",
        "roc_auc = dict()\n",
        "for i in range(3):\n",
        "    #fpr[i], tpr[i], thresholds = roc_curve(Y_test[:, i], Y_pred_lin[:, i])\n",
        "    #roc_auc[i] = auc(fpr[i], tpr[i])\n",
        "\n",
        "for i in range(n_classes):\n",
        "    plt.figure()\n",
        "    plt.plot(fpr[i], tpr[i], label='ROC curve (area = %0.2f)' % roc_auc[i])\n",
        "    plt.plot([0, 1], [0, 1], 'k--')\n",
        "    plt.xlim([0.0, 1.0])\n",
        "    plt.ylim([0.0, 1.05])\n",
        "    plt.xlabel('False Positive Rate')\n",
        "    plt.ylabel('True Positive Rate')\n",
        "    plt.title('Receiver operating characteristic example')\n",
        "    plt.legend(loc=\"lower right\")\n",
        "    plt.show()'''\n"
      ],
      "execution_count": 241,
      "outputs": [
        {
          "output_type": "execute_result",
          "data": {
            "text/plain": [
              "'fpr = dict()\\ntpr = dict()\\nroc_auc = dict()\\nfor i in range(3):\\n    #fpr[i], tpr[i], thresholds = roc_curve(Y_test[:, i], Y_pred_lin[:, i])\\n    #roc_auc[i] = auc(fpr[i], tpr[i])\\n\\nfor i in range(n_classes):\\n    plt.figure()\\n    plt.plot(fpr[i], tpr[i], label=\\'ROC curve (area = %0.2f)\\' % roc_auc[i])\\n    plt.plot([0, 1], [0, 1], \\'k--\\')\\n    plt.xlim([0.0, 1.0])\\n    plt.ylim([0.0, 1.05])\\n    plt.xlabel(\\'False Positive Rate\\')\\n    plt.ylabel(\\'True Positive Rate\\')\\n    plt.title(\\'Receiver operating characteristic example\\')\\n    plt.legend(loc=\"lower right\")\\n    plt.show()'"
            ]
          },
          "metadata": {
            "tags": []
          },
          "execution_count": 241
        }
      ]
    }
  ]
}