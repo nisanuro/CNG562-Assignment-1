{
  "nbformat": 4,
  "nbformat_minor": 0,
  "metadata": {
    "colab": {
      "name": "CNG562-Assignment1.ipynb",
      "provenance": [],
      "include_colab_link": true
    },
    "kernelspec": {
      "name": "python3",
      "display_name": "Python 3"
    },
    "accelerator": "GPU"
  },
  "cells": [
    {
      "cell_type": "markdown",
      "metadata": {
        "id": "view-in-github",
        "colab_type": "text"
      },
      "source": [
        "<a href=\"https://colab.research.google.com/github/nisanuro/CNG562-Assignment-1/blob/master/CNG562_Assignment1.ipynb\" target=\"_parent\"><img src=\"https://colab.research.google.com/assets/colab-badge.svg\" alt=\"Open In Colab\"/></a>"
      ]
    },
    {
      "cell_type": "markdown",
      "metadata": {
        "id": "UEX_vKmhbU97",
        "colab_type": "text"
      },
      "source": [
        "# **CNG 562 - Assignment #1**\n",
        "\n",
        "Linear Regression vs Logistic Regression using Iris Dataset\\\n",
        "Comparing:\n",
        "*   Random 1-Hold Out\n",
        "*   5-Fold\n",
        "*   10-Fold\n",
        "*   Strafied 1-Hold Out\n",
        "\n",
        "\\\n",
        "Nisa Nur Odabaş\\\n",
        "Kaan Taha Köken\n",
        "\n",
        "---\n",
        "\n"
      ]
    },
    {
      "cell_type": "code",
      "metadata": {
        "id": "A7xb3nOt1MJY",
        "colab_type": "code",
        "colab": {}
      },
      "source": [
        "import matplotlib.pyplot as plt  \n",
        "from sklearn.model_selection import train_test_split, KFold, StratifiedKFold, cross_val_score\n",
        "from sklearn.linear_model import LinearRegression, LogisticRegression\n",
        "from sklearn import metrics, datasets, preprocessing\n",
        "from sklearn.metrics import roc_curve, auc\n",
        "%matplotlib inline"
      ],
      "execution_count": 0,
      "outputs": []
    },
    {
      "cell_type": "markdown",
      "metadata": {
        "id": "rSeSvKNyd4WU",
        "colab_type": "text"
      },
      "source": [
        "**K-Fold method**"
      ]
    },
    {
      "cell_type": "code",
      "metadata": {
        "id": "JNATKa--c7Z0",
        "colab_type": "code",
        "colab": {}
      },
      "source": [
        "def kFold(foldNumber, X_train, Y_train):\n",
        "\n",
        "  kf = KFold(n_splits=foldNumber, shuffle=False)  \n",
        "\n",
        "  logReg = LogisticRegression(solver='liblinear', multi_class='ovr')\n",
        "  linReg = LinearRegression()  \n",
        "\n",
        "  cv_result_log = cross_val_score(logReg, X_train, Y_train, cv=kf, scoring='accuracy')\n",
        "  cv_result_lin = cross_val_score(linReg, X_train, Y_train, cv=kf, scoring='neg_mean_squared_error')\n",
        "\n",
        "  print(str(foldNumber) + \"Fold\")\n",
        "  print(\"Logistic Regression Accuracy: \", cv_result_log.mean())\n",
        "  print(\"Linear Regression Accuracy: \", 1 + cv_result_lin.mean())"
      ],
      "execution_count": 0,
      "outputs": []
    },
    {
      "cell_type": "markdown",
      "metadata": {
        "id": "Tyf75fcUeBB5",
        "colab_type": "text"
      },
      "source": [
        "**Random 1-Hold Out method**"
      ]
    },
    {
      "cell_type": "code",
      "metadata": {
        "id": "4D9wHIq3ceJS",
        "colab_type": "code",
        "colab": {}
      },
      "source": [
        "def randomOneHoldout(X_train, Y_train):\n",
        "\n",
        "  x_train, x_test, y_train, y_test = train_test_split(X_train, Y_train, test_size=0.2, random_state=0)\n",
        "  \n",
        "  logReg = LogisticRegression(solver='liblinear', multi_class='ovr')\n",
        "  linReg = LinearRegression()\n",
        "\n",
        "  logReg.fit(x_train, y_train)\n",
        "  linReg.fit(x_train, y_train)\n",
        "\n",
        "  y_pred_log = logReg.predict(x_test)\n",
        "  y_pred_lin = linReg.predict(x_test)\n",
        "  \n",
        "  print(\"Random One Hold Out\")\n",
        "  print(\"Logistic Regression Accuracy: \", 1 - metrics.mean_squared_error(y_test, y_pred_log))\n",
        "  print(\"Linear Regression Accuracy: \", 1 - metrics.mean_squared_error(y_test, y_pred_lin))"
      ],
      "execution_count": 0,
      "outputs": []
    },
    {
      "cell_type": "markdown",
      "metadata": {
        "id": "pPWS39aXeI6n",
        "colab_type": "text"
      },
      "source": [
        "**Stratified 1-Hold Out method**"
      ]
    },
    {
      "cell_type": "code",
      "metadata": {
        "id": "evz_cnDudAiM",
        "colab_type": "code",
        "colab": {}
      },
      "source": [
        "def stratifiedOneHoldout(X_train, Y_train):\n",
        "  \n",
        "  x_train, x_test, y_train, y_test = train_test_split(X_train, Y_train, test_size=0.2, random_state=0, stratify=Y_train)\n",
        "  \n",
        "  logReg = LogisticRegression(solver='liblinear', multi_class='ovr')\n",
        "  linReg = LinearRegression()\n",
        "\n",
        "  logReg.fit(x_train, y_train)\n",
        "  linReg.fit(x_train, y_train)\n",
        "\n",
        "  y_pred_log = logReg.predict(x_test)\n",
        "  y_pred_lin = linReg.predict(x_test)\n",
        "  \n",
        "  print(\"Stratified\")\n",
        "  print(\"Logistic Regression Accuracy: \", 1 - metrics.mean_squared_error(y_test, y_pred_log))\n",
        "  print(\"Linear Regression Accuracy: \", 1 - metrics.mean_squared_error(y_test, y_pred_lin))"
      ],
      "execution_count": 0,
      "outputs": []
    },
    {
      "cell_type": "markdown",
      "metadata": {
        "id": "D_2B_gqEeOd9",
        "colab_type": "text"
      },
      "source": [
        "**Displaying accuracies for all validation methods**"
      ]
    },
    {
      "cell_type": "code",
      "metadata": {
        "id": "X5LKjla4N3Al",
        "colab_type": "code",
        "colab": {}
      },
      "source": [
        "def displayAccuracy(X, Y):\n",
        "    \n",
        "    X_train, X_test, Y_train, Y_test = train_test_split(X, Y, test_size=0.2, random_state=0)\n",
        "    \n",
        "    kFold(5, X_train, Y_train)    \n",
        "    kFold(10, X_train, Y_train)    \n",
        "    randomOneHoldout(X_train, Y_train)\n",
        "    stratifiedOneHoldout(X_train, Y_train)"
      ],
      "execution_count": 0,
      "outputs": []
    },
    {
      "cell_type": "markdown",
      "metadata": {
        "id": "1fXFXbbvecNi",
        "colab_type": "text"
      },
      "source": [
        "**Round method for linear regression prediction**"
      ]
    },
    {
      "cell_type": "code",
      "metadata": {
        "id": "wxbKsVBDL_ru",
        "colab_type": "code",
        "colab": {}
      },
      "source": [
        "def roundPredict(p):\n",
        "    r = p.copy()\n",
        "    for i in range(len(r)):\n",
        "        if r[i] <= 0.5: r[i] = 0\n",
        "        elif r[i] >= 1.5: r[i] = 2\n",
        "        else: r[i] = 1\n",
        "    return r"
      ],
      "execution_count": 0,
      "outputs": []
    },
    {
      "cell_type": "markdown",
      "metadata": {
        "id": "K-5fN1oyejo-",
        "colab_type": "text"
      },
      "source": [
        "**Main**"
      ]
    },
    {
      "cell_type": "code",
      "metadata": {
        "id": "Rs4klAsSguXu",
        "colab_type": "code",
        "outputId": "b0044950-7aca-40e8-b44f-417057989d2b",
        "colab": {
          "base_uri": "https://localhost:8080/",
          "height": 731
        }
      },
      "source": [
        "if __name__ == '__main__':\n",
        "\n",
        "  iris = datasets.load_iris()\n",
        "  \n",
        "  X = iris.data\n",
        "  Y = iris.target\n",
        "  \n",
        "  # L1 normalization\n",
        "  l1_norm = preprocessing.normalize(X, norm=\"l1\")\n",
        "  # Mean removal\n",
        "  mean_removal = preprocessing.scale(X)\n",
        "\n",
        "  '''#mean & standart deviation before mean removal \n",
        "  print(X.mean(axis=0))\n",
        "  print(X.std(axis=0))\n",
        "\n",
        "  #mean & standart deviation after mean removal \n",
        "  print(mean_removal.mean(axis=0))\n",
        "  print(mean_removal.std(axis=0))'''\n",
        "\n",
        "  #Displaying result according to each type of methods and regression model\n",
        "  print(\"\\nRaw: \")\n",
        "  displayAccuracy(X,Y)\n",
        "  print(\"\\nL1 Normalization: \")\n",
        "  displayAccuracy(l1_norm,Y)\n",
        "  print(\"\\nMean Removal: \")\n",
        "  displayAccuracy(mean_removal,Y)"
      ],
      "execution_count": 192,
      "outputs": [
        {
          "output_type": "stream",
          "text": [
            "\n",
            "Raw: \n",
            "5Fold\n",
            "Logistic Regression Accuracy:  0.9333333333333333\n",
            "Linear Regression Accuracy:  0.9497273362310497\n",
            "10Fold\n",
            "Logistic Regression Accuracy:  0.9333333333333332\n",
            "Linear Regression Accuracy:  0.9502722839017427\n",
            "Random One Hold Out\n",
            "Logistic Regression Accuracy:  0.8333333333333334\n",
            "Linear Regression Accuracy:  0.9183764782741906\n",
            "Stratified\n",
            "Logistic Regression Accuracy:  0.9583333333333334\n",
            "Linear Regression Accuracy:  0.9531984944502794\n",
            "\n",
            "L1 Normalization: \n",
            "5Fold\n",
            "Logistic Regression Accuracy:  0.6916666666666667\n",
            "Linear Regression Accuracy:  0.9185691833496094\n",
            "10Fold\n",
            "Logistic Regression Accuracy:  0.6916666666666667\n",
            "Linear Regression Accuracy:  0.9181168874104818\n",
            "Random One Hold Out\n",
            "Logistic Regression Accuracy:  0.7083333333333333\n",
            "Linear Regression Accuracy:  0.8837890625\n",
            "Stratified\n",
            "Logistic Regression Accuracy:  0.7083333333333333\n",
            "Linear Regression Accuracy:  0.9245198567708334\n",
            "\n",
            "Mean Removal: \n",
            "5Fold\n",
            "Logistic Regression Accuracy:  0.875\n",
            "Linear Regression Accuracy:  0.9497273362310498\n",
            "10Fold\n",
            "Logistic Regression Accuracy:  0.8833333333333334\n",
            "Linear Regression Accuracy:  0.9502722839017428\n",
            "Random One Hold Out\n",
            "Logistic Regression Accuracy:  0.7916666666666666\n",
            "Linear Regression Accuracy:  0.9183764782741907\n",
            "Stratified\n",
            "Logistic Regression Accuracy:  0.9166666666666666\n",
            "Linear Regression Accuracy:  0.9531984944502794\n"
          ],
          "name": "stdout"
        }
      ]
    },
    {
      "cell_type": "markdown",
      "metadata": {
        "id": "KwS89vg5fEhF",
        "colab_type": "text"
      },
      "source": [
        "# **Final**\n",
        "**Training and Testing using:**\n",
        "* **Raw data**\n",
        "* **Stratified 1-Hold Out**\n",
        "* **Linear Regression**\n",
        "\n",
        "\n",
        "\n",
        "\n"
      ]
    },
    {
      "cell_type": "markdown",
      "metadata": {
        "id": "1H8jMNi4g1FU",
        "colab_type": "text"
      },
      "source": [
        "**Dividing Train and Test sets**"
      ]
    },
    {
      "cell_type": "code",
      "metadata": {
        "id": "DCRTm6pZg8nN",
        "colab_type": "code",
        "colab": {}
      },
      "source": [
        " X_train, X_test, Y_train, Y_test = train_test_split(X, Y, test_size=0.3, random_state=0, stratify=Y)"
      ],
      "execution_count": 0,
      "outputs": []
    },
    {
      "cell_type": "markdown",
      "metadata": {
        "id": "uhNi5KMOxgcw",
        "colab_type": "text"
      },
      "source": [
        "Splitting dataset into 4.\n",
        "*   Train - 56%\n",
        "*   Train Dev - 14%\n",
        "*   Dev - 15%\n",
        "*   Test - 15%"
      ]
    },
    {
      "cell_type": "code",
      "metadata": {
        "id": "Oow4dOrkUk0y",
        "colab_type": "code",
        "colab": {}
      },
      "source": [
        " Train_x, TrainDev_x, Train_y, TrainDev_y = train_test_split(X_train, Y_train, test_size=0.2, random_state=0, stratify=Y_train)\n",
        " Dev_x, Test_x, Dev_y, Test_y = train_test_split(X_test, Y_test, test_size=0.5, random_state=0, stratify=Y_test)\n"
      ],
      "execution_count": 0,
      "outputs": []
    },
    {
      "cell_type": "markdown",
      "metadata": {
        "id": "Xgm3mSbMhJy2",
        "colab_type": "text"
      },
      "source": [
        "**Training**"
      ]
    },
    {
      "cell_type": "code",
      "metadata": {
        "id": "OQEgrf5tuuOQ",
        "colab_type": "code",
        "colab": {
          "base_uri": "https://localhost:8080/",
          "height": 34
        },
        "outputId": "9f28063d-6104-4419-bde7-4f3cf5637ad7"
      },
      "source": [
        "  linReg = LinearRegression()\n",
        "  linReg.fit(Train_x, Train_y)"
      ],
      "execution_count": 195,
      "outputs": [
        {
          "output_type": "execute_result",
          "data": {
            "text/plain": [
              "LinearRegression(copy_X=True, fit_intercept=True, n_jobs=None, normalize=False)"
            ]
          },
          "metadata": {
            "tags": []
          },
          "execution_count": 195
        }
      ]
    },
    {
      "cell_type": "markdown",
      "metadata": {
        "id": "ZBrwECDVhi94",
        "colab_type": "text"
      },
      "source": [
        "**Testing**"
      ]
    },
    {
      "cell_type": "code",
      "metadata": {
        "id": "PP1bK9dKPfHT",
        "colab_type": "code",
        "outputId": "01141c3e-c309-42d0-e693-478251da926e",
        "colab": {
          "base_uri": "https://localhost:8080/",
          "height": 493
        }
      },
      "source": [
        "  trainDev_pred = linReg.predict(TrainDev_x)\n",
        "  round_trainDev_pred = roundPredict(trainDev_pred)\n",
        "  \n",
        "  print(\"Train-Train Dev,   e1:\", metrics.mean_squared_error(TrainDev_y, trainDev_pred),\"\\n\")\n",
        "  print(\"Rounded Stratify One Hold Out - TrainDev\")\n",
        "  print(\"Linear Regression Accuracy: \", 1 - metrics.mean_squared_error(TrainDev_y, trainDev_pred))\n",
        "  print(\"Linear Regression R^2 score: \", metrics.r2_score(TrainDev_y, trainDev_pred))\n",
        "\n",
        "  print(\"\\ntrainDev_pred   \\tTrainDev_y\\trounded\")\n",
        "  for i, (j, k) in sorted(zip(trainDev_pred, zip(TrainDev_y, round_trainDev_pred))):\n",
        "    print(i , \"\\t\" , j, \"\\t\\t\", k)"
      ],
      "execution_count": 196,
      "outputs": [
        {
          "output_type": "stream",
          "text": [
            "Train-Train Dev,   e1: 0.05876313845669336 \n",
            "\n",
            "Rounded Stratify One Hold Out - TrainDev\n",
            "Linear Regression Accuracy:  0.9412368615433067\n",
            "Linear Regression R^2 score:  0.91185529231496\n",
            "\n",
            "trainDev_pred   \tTrainDev_y\trounded\n",
            "-0.13839147720498163 \t 0 \t\t 0.0\n",
            "-0.020046458285302993 \t 0 \t\t 0.0\n",
            "-0.010544867798288726 \t 0 \t\t 0.0\n",
            "-0.00257374725955245 \t 0 \t\t 0.0\n",
            "0.00430619661238496 \t 0 \t\t 0.0\n",
            "0.04743188973070861 \t 0 \t\t 0.0\n",
            "0.09601163203673474 \t 0 \t\t 0.0\n",
            "0.8529057223353345 \t 1 \t\t 1.0\n",
            "1.0582147675441174 \t 1 \t\t 1.0\n",
            "1.2731067662698674 \t 1 \t\t 1.0\n",
            "1.3141104768592393 \t 1 \t\t 1.0\n",
            "1.331988762171668 \t 1 \t\t 1.0\n",
            "1.3843000999760933 \t 1 \t\t 1.0\n",
            "1.4333817263770279 \t 1 \t\t 1.0\n",
            "1.4784285382481448 \t 2 \t\t 1.0\n",
            "1.555788618794975 \t 2 \t\t 2.0\n",
            "1.7322149705076941 \t 2 \t\t 2.0\n",
            "1.9601519969160788 \t 2 \t\t 2.0\n",
            "1.9751912196295316 \t 2 \t\t 2.0\n",
            "2.0277847842400685 \t 2 \t\t 2.0\n",
            "2.1217438364258645 \t 2 \t\t 2.0\n"
          ],
          "name": "stdout"
        }
      ]
    },
    {
      "cell_type": "markdown",
      "metadata": {
        "id": "RZFlCzQV24Wf",
        "colab_type": "text"
      },
      "source": [
        "Add TrainDev to Train and create new model"
      ]
    },
    {
      "cell_type": "code",
      "metadata": {
        "id": "1N2XM6Z323Kl",
        "colab_type": "code",
        "colab": {}
      },
      "source": [
        "  #linReg = LinearRegression()\n",
        "  #linReg.fit(X_train, Y_train)"
      ],
      "execution_count": 0,
      "outputs": []
    },
    {
      "cell_type": "code",
      "metadata": {
        "id": "A6tMJf3yRw5L",
        "colab_type": "code",
        "outputId": "1276e934-7c13-40ce-f4d7-8639c7e287c5",
        "colab": {
          "base_uri": "https://localhost:8080/",
          "height": 510
        }
      },
      "source": [
        "dev_pred = linReg.predict(Dev_x)\n",
        "round_dev_pred = roundPredict(dev_pred)\n",
        "\n",
        "print(\"Train-Dev,   e2\", metrics.mean_squared_error(Dev_y, dev_pred),\"\\n\")\n",
        "print(\"Rounded Stratify One Hold Out - Dev\")\n",
        "print(\"Linear Regression Accuracy: \", 1 - metrics.mean_squared_error(Dev_y, dev_pred))\n",
        "print(\"Linear Regression R^2 score: \", metrics.r2_score(Dev_y, dev_pred))\n",
        "\n",
        "print(\"\\ndev_pred     \\t      Dev_y\\trounded\")\n",
        "for i, (j, k) in sorted(zip(dev_pred, zip(Dev_y, round_dev_pred))):\n",
        "    print(i , \"\\t\" , j, \"\\t\", k)"
      ],
      "execution_count": 198,
      "outputs": [
        {
          "output_type": "stream",
          "text": [
            "Train-Dev,   e2 0.050911109070897693 \n",
            "\n",
            "Rounded Stratify One Hold Out - Dev\n",
            "Linear Regression Accuracy:  0.9490888909291023\n",
            "Linear Regression R^2 score:  0.9251034140112022\n",
            "\n",
            "dev_pred     \t      Dev_y\trounded\n",
            "-0.058514325307117476 \t 0 \t 0.0\n",
            "-0.010649443062331787 \t 0 \t 0.0\n",
            "-0.007315156394797795 \t 0 \t 0.0\n",
            "0.008037792110784314 \t 0 \t 0.0\n",
            "0.06479780548363284 \t 0 \t 0.0\n",
            "0.1205292330031118 \t 0 \t 0.0\n",
            "0.1973000209780516 \t 0 \t 0.0\n",
            "0.9650856574443161 \t 1 \t 1.0\n",
            "1.1234455655418274 \t 1 \t 1.0\n",
            "1.1431426143517895 \t 1 \t 1.0\n",
            "1.2081664818301967 \t 1 \t 1.0\n",
            "1.2807873732505648 \t 1 \t 1.0\n",
            "1.344209914511452 \t 1 \t 1.0\n",
            "1.3951230098832994 \t 1 \t 1.0\n",
            "1.603258412217679 \t 2 \t 2.0\n",
            "1.6060532703572574 \t 2 \t 2.0\n",
            "1.698465300387035 \t 2 \t 2.0\n",
            "1.7118218338530151 \t 2 \t 2.0\n",
            "1.7570672894915074 \t 2 \t 2.0\n",
            "1.8425030658411172 \t 2 \t 2.0\n",
            "2.1644512284880157 \t 2 \t 2.0\n",
            "2.1660630614662466 \t 2 \t 2.0\n"
          ],
          "name": "stdout"
        }
      ]
    },
    {
      "cell_type": "code",
      "metadata": {
        "id": "IUhWtFNvBupT",
        "colab_type": "code",
        "outputId": "64ce9251-9dd4-44dc-87fe-3516251dd71b",
        "colab": {
          "base_uri": "https://localhost:8080/",
          "height": 527
        }
      },
      "source": [
        "test_pred = linReg.predict(Test_x)\n",
        "round_test_pred= roundPredict(test_pred)\n",
        "\n",
        "\n",
        "print(\"Train-Test,   e3: \", metrics.mean_squared_error(Test_y, test_pred),\"\\n\")\n",
        "print(\"Rounded Stratify One Hold Out - Test set\")\n",
        "print(\"Linear Regression Accuracy: \", 1 - metrics.mean_squared_error(Test_y, test_pred))\n",
        "print(\"Linear Regression R^2 score: \", metrics.r2_score(Test_y, test_pred))\n",
        "\n",
        "print(\"\\ntest_pred     \\t      Test_y\\trounded\")\n",
        "for i, (j, k) in sorted(zip(test_pred, zip(Test_y, round_test_pred))):\n",
        "  print(i , \"\\t\" , j, \"\\t\", k)"
      ],
      "execution_count": 199,
      "outputs": [
        {
          "output_type": "stream",
          "text": [
            "Train-Test,   e3:  0.05383934801884544 \n",
            "\n",
            "Rounded Stratify One Hold Out - Test set\n",
            "Linear Regression Accuracy:  0.9461606519811545\n",
            "Linear Regression R^2 score:  0.9172063514477639\n",
            "\n",
            "test_pred     \t      Test_y\trounded\n",
            "-0.13285162496975972 \t 0 \t 0.0\n",
            "-0.07820915410829629 \t 0 \t 0.0\n",
            "-0.07032161660829617 \t 0 \t 0.0\n",
            "-0.07013345830551695 \t 0 \t 0.0\n",
            "-0.05387971144469844 \t 0 \t 0.0\n",
            "-0.03619784989086178 \t 0 \t 0.0\n",
            "-0.032965918478587486 \t 0 \t 0.0\n",
            "0.028721442323502322 \t 0 \t 0.0\n",
            "0.9246026031663763 \t 1 \t 1.0\n",
            "1.1454505351747373 \t 1 \t 1.0\n",
            "1.1525396295747607 \t 1 \t 1.0\n",
            "1.2379754059243706 \t 1 \t 1.0\n",
            "1.2686790829267514 \t 1 \t 1.0\n",
            "1.304422948078229 \t 1 \t 1.0\n",
            "1.3495638284526783 \t 1 \t 1.0\n",
            "1.3589608436756495 \t 1 \t 1.0\n",
            "1.472836194801598 \t 2 \t 1.0\n",
            "1.6034443505116747 \t 2 \t 2.0\n",
            "1.6930300234158557 \t 2 \t 2.0\n",
            "1.7171735277854578 \t 2 \t 2.0\n",
            "1.7520143745729162 \t 2 \t 2.0\n",
            "1.935299677932266 \t 2 \t 2.0\n",
            "2.028926232109409 \t 2 \t 2.0\n"
          ],
          "name": "stdout"
        }
      ]
    },
    {
      "cell_type": "code",
      "metadata": {
        "id": "43p8lSuCPCJb",
        "colab_type": "code",
        "outputId": "b1d8b3bd-60aa-4e6c-9881-198a8d9996d4",
        "colab": {
          "base_uri": "https://localhost:8080/",
          "height": 901
        }
      },
      "source": [
        "devTest_pred = linReg.predict(X_test)\n",
        "rounded_lin = roundPredict(devTest_pred)\n",
        "\n",
        "\n",
        "print(\"Train-(Dev+Test),   e4: \", metrics.mean_squared_error(Y_test, devTest_pred),\"\\n\")\n",
        "print(\"Rounded Stratify One Hold Out - Test set\")\n",
        "print(\"Linear Regression Accuracy: \", 1 - metrics.mean_squared_error(Y_test, devTest_pred))\n",
        "print(\"Linear Regression R^2 score: \", metrics.r2_score(Y_test, devTest_pred))\n",
        "\n",
        "print(\"\\ndevTest_pred  \\t\\t Dev+Test \\trounded\")\n",
        "for i, (j, k) in sorted(zip(devTest_pred, zip(Y_test, rounded_lin))):\n",
        "  print(i , \"\\t\" , j, \"\\t\\t\", k)"
      ],
      "execution_count": 200,
      "outputs": [
        {
          "output_type": "stream",
          "text": [
            "Train-(Dev+Test),   e4:  0.05240776453318211 \n",
            "\n",
            "Rounded Stratify One Hold Out - Test set\n",
            "Linear Regression Accuracy:  0.9475922354668179\n",
            "Linear Regression R^2 score:  0.9213883532002268\n",
            "\n",
            "devTest_pred  \t\t Dev+Test \trounded\n",
            "-0.13285162496975972 \t 0 \t\t 0.0\n",
            "-0.07820915410829629 \t 0 \t\t 0.0\n",
            "-0.07032161660829617 \t 0 \t\t 0.0\n",
            "-0.07013345830551695 \t 0 \t\t 0.0\n",
            "-0.058514325307117476 \t 0 \t\t 0.0\n",
            "-0.05387971144469844 \t 0 \t\t 0.0\n",
            "-0.03619784989086178 \t 0 \t\t 0.0\n",
            "-0.032965918478587486 \t 0 \t\t 0.0\n",
            "-0.010649443062331787 \t 0 \t\t 0.0\n",
            "-0.007315156394797795 \t 0 \t\t 0.0\n",
            "0.008037792110784314 \t 0 \t\t 0.0\n",
            "0.028721442323502322 \t 0 \t\t 0.0\n",
            "0.06479780548363284 \t 0 \t\t 0.0\n",
            "0.1205292330031118 \t 0 \t\t 0.0\n",
            "0.1973000209780516 \t 0 \t\t 0.0\n",
            "0.9246026031663763 \t 1 \t\t 1.0\n",
            "0.9650856574443161 \t 1 \t\t 1.0\n",
            "1.1234455655418274 \t 1 \t\t 1.0\n",
            "1.1431426143517895 \t 1 \t\t 1.0\n",
            "1.1454505351747373 \t 1 \t\t 1.0\n",
            "1.1525396295747607 \t 1 \t\t 1.0\n",
            "1.2081664818301967 \t 1 \t\t 1.0\n",
            "1.2379754059243706 \t 1 \t\t 1.0\n",
            "1.2686790829267514 \t 1 \t\t 1.0\n",
            "1.2807873732505648 \t 1 \t\t 1.0\n",
            "1.304422948078229 \t 1 \t\t 1.0\n",
            "1.344209914511452 \t 1 \t\t 1.0\n",
            "1.3495638284526783 \t 1 \t\t 1.0\n",
            "1.3589608436756495 \t 1 \t\t 1.0\n",
            "1.3951230098832994 \t 1 \t\t 1.0\n",
            "1.472836194801598 \t 2 \t\t 1.0\n",
            "1.603258412217679 \t 2 \t\t 2.0\n",
            "1.6034443505116747 \t 2 \t\t 2.0\n",
            "1.6060532703572574 \t 2 \t\t 2.0\n",
            "1.6930300234158557 \t 2 \t\t 2.0\n",
            "1.698465300387035 \t 2 \t\t 2.0\n",
            "1.7118218338530151 \t 2 \t\t 2.0\n",
            "1.7171735277854578 \t 2 \t\t 2.0\n",
            "1.7520143745729162 \t 2 \t\t 2.0\n",
            "1.7570672894915074 \t 2 \t\t 2.0\n",
            "1.8425030658411172 \t 2 \t\t 2.0\n",
            "1.935299677932266 \t 2 \t\t 2.0\n",
            "2.028926232109409 \t 2 \t\t 2.0\n",
            "2.1644512284880157 \t 2 \t\t 2.0\n",
            "2.1660630614662466 \t 2 \t\t 2.0\n"
          ],
          "name": "stdout"
        }
      ]
    },
    {
      "cell_type": "markdown",
      "metadata": {
        "id": "GjUToaP_i4wD",
        "colab_type": "text"
      },
      "source": [
        "**Predicting [6, 3, 5, 1.5]**"
      ]
    },
    {
      "cell_type": "code",
      "metadata": {
        "id": "czCbG4-KR6ZD",
        "colab_type": "code",
        "colab": {}
      },
      "source": [
        "Y_pred = linReg.predict([[6, 3, 5, 1.5]])\n",
        "rounded = roundPredict(Y_pred.copy())"
      ],
      "execution_count": 0,
      "outputs": []
    },
    {
      "cell_type": "code",
      "metadata": {
        "id": "-s_nKHMuSJqv",
        "colab_type": "code",
        "outputId": "26cda584-019d-4d58-faf9-ce74a22df50b",
        "colab": {
          "base_uri": "https://localhost:8080/",
          "height": 85
        }
      },
      "source": [
        "print(\"Prediction: \\t\\t\",Y_pred)\n",
        "print(\"Predicted class: \\t\", rounded)\n",
        "print(\"Mean squared error: \\t\", metrics.mean_squared_error(rounded, Y_pred))\n",
        "print(\"Mean absolute error: \\t\", metrics.mean_absolute_error(rounded, Y_pred))"
      ],
      "execution_count": 202,
      "outputs": [
        {
          "output_type": "stream",
          "text": [
            "Prediction: \t\t [1.39983899]\n",
            "Predicted class: \t [1.]\n",
            "Mean squared error: \t 0.15987121534579546\n",
            "Mean absolute error: \t 0.3998389867756713\n"
          ],
          "name": "stdout"
        }
      ]
    },
    {
      "cell_type": "markdown",
      "metadata": {
        "id": "1Em11tVCvzAd",
        "colab_type": "text"
      },
      "source": [
        "**ROC**\\\n",
        "Using rounded predictions since linear regression has no ROC."
      ]
    },
    {
      "cell_type": "code",
      "metadata": {
        "id": "X4B7Xf47fd9C",
        "colab_type": "code",
        "outputId": "11848fd4-a2a0-4c89-d5fa-bb6f81c4206a",
        "colab": {
          "base_uri": "https://localhost:8080/",
          "height": 782
        }
      },
      "source": [
        "scores=[]\n",
        "\n",
        "for i, j in sorted(zip(devTest_pred, Y_test)):\n",
        "    scores.append(float(j)- i)\n",
        "scores"
      ],
      "execution_count": 203,
      "outputs": [
        {
          "output_type": "execute_result",
          "data": {
            "text/plain": [
              "[0.13285162496975972,\n",
              " 0.07820915410829629,\n",
              " 0.07032161660829617,\n",
              " 0.07013345830551695,\n",
              " 0.058514325307117476,\n",
              " 0.05387971144469844,\n",
              " 0.03619784989086178,\n",
              " 0.032965918478587486,\n",
              " 0.010649443062331787,\n",
              " 0.007315156394797795,\n",
              " -0.008037792110784314,\n",
              " -0.028721442323502322,\n",
              " -0.06479780548363284,\n",
              " -0.1205292330031118,\n",
              " -0.1973000209780516,\n",
              " 0.07539739683362368,\n",
              " 0.03491434255568393,\n",
              " -0.1234455655418274,\n",
              " -0.14314261435178954,\n",
              " -0.14545053517473727,\n",
              " -0.15253962957476075,\n",
              " -0.2081664818301967,\n",
              " -0.2379754059243706,\n",
              " -0.26867908292675136,\n",
              " -0.2807873732505648,\n",
              " -0.304422948078229,\n",
              " -0.3442099145114521,\n",
              " -0.3495638284526783,\n",
              " -0.3589608436756495,\n",
              " -0.3951230098832994,\n",
              " 0.527163805198402,\n",
              " 0.39674158778232105,\n",
              " 0.39655564948832533,\n",
              " 0.3939467296427426,\n",
              " 0.30696997658414427,\n",
              " 0.3015346996129651,\n",
              " 0.2881781661469849,\n",
              " 0.28282647221454216,\n",
              " 0.2479856254270838,\n",
              " 0.24293271050849263,\n",
              " 0.15749693415888277,\n",
              " 0.06470032206773402,\n",
              " -0.02892623210940881,\n",
              " -0.16445122848801574,\n",
              " -0.1660630614662466]"
            ]
          },
          "metadata": {
            "tags": []
          },
          "execution_count": 203
        }
      ]
    },
    {
      "cell_type": "code",
      "metadata": {
        "id": "61U-P59TWpq2",
        "colab_type": "code",
        "outputId": "27f81f4c-27ce-48b2-f3be-0637638f2d85",
        "colab": {
          "base_uri": "https://localhost:8080/",
          "height": 363
        }
      },
      "source": [
        "#Prediction of the model\n",
        "temp = Y_test.copy()\n",
        "for i in range(len(Y_test)):\n",
        "    if Y_test[i] != 0: temp[i] = -1\n",
        "    else: temp[i] = 1\n",
        "\n",
        "fpr, tpr, thresholds = roc_curve(temp, scores)\n",
        "roc_auc = auc(fpr, tpr)\n",
        "print(fpr)\n",
        "plt.figure()\n",
        "plt.plot(fpr, tpr, label='ROC curve (area = %0.2f)' % roc_auc)\n",
        "plt.plot([0, 1], [0, 1], 'k--')\n",
        "plt.xlim([0.0, 1.0])\n",
        "plt.ylim([0.0, 1.05])\n",
        "plt.xlabel('False Positive Rate')\n",
        "plt.ylabel('True Positive Rate')\n",
        "plt.title('Receiver operating characteristic example')\n",
        "plt.legend(loc=\"lower right\")\n",
        "plt.show()\n"
      ],
      "execution_count": 204,
      "outputs": [
        {
          "output_type": "stream",
          "text": [
            "[0.         0.03333333 0.03333333 0.16666667 0.16666667 0.2\n",
            " 0.2        0.3        0.3        0.36666667 0.36666667 0.46666667\n",
            " 0.46666667 0.5        0.5        0.53333333 0.53333333 0.63333333\n",
            " 0.63333333 0.66666667 0.66666667 0.76666667 0.76666667 1.        ]\n"
          ],
          "name": "stdout"
        },
        {
          "output_type": "display_data",
          "data": {
            "image/png": "[encoded data removed]",
            "text/plain": [
              "<Figure size 432x288 with 1 Axes>"
            ]
          },
          "metadata": {
            "tags": []
          }
        }
      ]
    },
    {
      "cell_type": "code",
      "metadata": {
        "id": "Lv3gtMxbeBoJ",
        "colab_type": "code",
        "outputId": "a1950af7-6bf0-4ad7-b280-fcfa033d9cf0",
        "colab": {
          "base_uri": "https://localhost:8080/",
          "height": 1000
        }
      },
      "source": [
        "import numpy as np\n",
        "import matplotlib.pyplot as plt\n",
        "from itertools import cycle\n",
        "\n",
        "from sklearn import svm, datasets\n",
        "from sklearn.metrics import roc_curve, auc\n",
        "from sklearn.model_selection import train_test_split\n",
        "from sklearn.preprocessing import label_binarize\n",
        "from sklearn.multiclass import OneVsRestClassifier\n",
        "from scipy import interp\n",
        "from sklearn.metrics import roc_auc_score\n",
        "\n",
        "\n",
        "# Import some data to play with\n",
        "iris = datasets.load_iris()\n",
        "X = iris.data\n",
        "y = iris.target\n",
        "\n",
        "# Binarize the output\n",
        "y = label_binarize(y, classes=[0, 1, 2])\n",
        "n_classes = y.shape[1]\n",
        "\n",
        "# Add noisy features to make the problem harder\n",
        "random_state = np.random.RandomState(0)\n",
        "n_samples, n_features = X.shape\n",
        "X = np.c_[X, random_state.randn(n_samples, 200 * n_features)]\n",
        "\n",
        "# shuffle and split training and test sets\n",
        "X_train, X_test, y_train, y_test = train_test_split(X, y, test_size=.5,\n",
        "                                                    random_state=0)\n",
        "\n",
        "# Learn to predict each class against the other\n",
        "classifier = OneVsRestClassifier(svm.SVC(kernel='linear', probability=True,\n",
        "                                 random_state=random_state))\n",
        "y_score = classifier.fit(X_train, y_train).decision_function(X_test)\n",
        "print(y_score, y_test)\n",
        "# Compute ROC curve and ROC area for each class\n",
        "#fpr = dict()\n",
        "#tpr = dict()\n",
        "#roc_auc = dict()\n",
        "for i in range(n_classes):\n",
        "    print(y_score[:, i])\n",
        "    fpr[i], tpr[i], _ = roc_curve(y_test[:, i], y_score[:, i])\n",
        "    roc_auc[i] = auc(fpr[i], tpr[i])\n",
        "\n",
        "#fpr, tpr, _ = roc_curve(, y_score[:, i])\n",
        "#roc_auc = auc(fpr, tpr)\n",
        "# Compute micro-average ROC curve and ROC area\n",
        "#fpr[\"micro\"], tpr[\"micro\"], _ = roc_curve(y_test.ravel(), y_score.ravel())\n",
        "#roc_auc[\"micro\"] = auc(fpr[\"micro\"], tpr[\"micro\"])"
      ],
      "execution_count": 205,
      "outputs": [
        {
          "output_type": "stream",
          "text": [
            "[[-0.76301132 -0.36482547  0.12386354]\n",
            " [-0.20224493 -0.63144366 -0.16612302]\n",
            " [ 0.11801481 -0.80263073 -0.32055874]\n",
            " [-0.90780855 -0.12395478  0.02199789]\n",
            " [-0.01116192 -0.27913475 -0.71889214]\n",
            " [-0.6048727  -0.34730509 -0.05859016]\n",
            " [ 0.02283491 -0.24506467 -0.79111998]\n",
            " [-0.61076876  0.18264917 -0.57199363]\n",
            " [-0.37572754 -0.24059516 -0.38933694]\n",
            " [-0.47017411 -0.25745136 -0.27510839]\n",
            " [-0.42224234 -0.30270719 -0.27995197]\n",
            " [-0.3355867  -0.7030665   0.02530178]\n",
            " [-0.22723929 -0.64062258 -0.13456902]\n",
            " [-0.07856729 -0.46354017 -0.45918364]\n",
            " [-0.53383361 -0.2653183  -0.20023832]\n",
            " [ 0.12163662 -0.56706353 -0.56980985]\n",
            " [-0.71356947 -0.04226738 -0.24297128]\n",
            " [-0.55111511 -0.13784913 -0.31370595]\n",
            " [ 0.37991331 -0.99673302 -0.39090964]\n",
            " [-0.11107635 -0.91349462  0.03129167]\n",
            " [-0.70713712 -0.06436533 -0.21423788]\n",
            " [-0.02392675 -0.45906496 -0.51922684]\n",
            " [-0.25045747 -0.80086123  0.04121338]\n",
            " [ 0.12675547 -0.70985659 -0.41072849]\n",
            " [-0.68210402 -0.20735021 -0.12051204]\n",
            " [-0.08001795 -0.36698232 -0.57704892]\n",
            " [-0.03259341 -0.1159895  -0.86493066]\n",
            " [-0.04953425 -0.73611276 -0.21682409]\n",
            " [-0.12974835 -0.37676258 -0.49997476]\n",
            " [-0.19299299 -0.71078341 -0.11058011]\n",
            " [-0.3619768  -0.41408367 -0.22759345]\n",
            " [-0.22818639 -0.78971942  0.02046723]\n",
            " [-0.06196433 -0.47617037 -0.45379557]\n",
            " [-0.52455061 -0.46507392 -0.00375631]\n",
            " [-0.40026409 -0.71470221  0.10106561]\n",
            " [-0.35056585 -0.31125083 -0.34020065]\n",
            " [-0.05770139 -0.51388968 -0.41776502]\n",
            " [-1.11907501 -0.0074193   0.12967625]\n",
            " [ 0.19599366 -0.65773489 -0.54610377]\n",
            " [-0.04299172 -0.60049718 -0.35901924]\n",
            " [-0.48108269 -0.21918849 -0.30065047]\n",
            " [ 0.1741885  -1.0107504  -0.181261  ]\n",
            " [-0.41416456 -0.60044961  0.00856393]\n",
            " [-0.01053513 -0.7579771  -0.2292247 ]\n",
            " [ 0.01645355 -0.81552421 -0.2039252 ]\n",
            " [-0.11932181 -0.84787471 -0.05831557]\n",
            " [-0.70817199 -0.2863326  -0.01186087]\n",
            " [-0.77303401 -0.43228203  0.21326435]\n",
            " [-0.61489613 -0.15060119 -0.23302033]\n",
            " [-0.96334774 -0.62804881  0.58423201]\n",
            " [-0.31037723 -0.29572764 -0.39404258]\n",
            " [-0.31952657 -0.34638653 -0.32086131]\n",
            " [-0.35306417 -0.66917752  0.00767521]\n",
            " [ 0.12127427 -0.62483455 -0.50550427]\n",
            " [-0.6643231  -0.11456775 -0.21298739]\n",
            " [-0.55149778 -0.34855346 -0.10551977]\n",
            " [-0.55695146 -0.13384038 -0.30613086]\n",
            " [-0.41111447 -0.52487765 -0.07455313]\n",
            " [-0.49463336 -0.23331763 -0.27802284]\n",
            " [ 0.06910059 -0.85448531 -0.21662877]\n",
            " [-0.23036784 -0.48759987 -0.28317657]\n",
            " [ 0.30342285 -0.83392076 -0.47754831]\n",
            " [ 0.17642852 -0.81597935 -0.3755452 ]\n",
            " [-0.1906155  -0.70826295 -0.10238744]\n",
            " [-0.42910413 -0.39894364 -0.1693745 ]\n",
            " [-0.67759563  0.09194626 -0.3995789 ]\n",
            " [-0.32958811 -0.56572577 -0.12075396]\n",
            " [-0.97119543 -0.46484965  0.41477557]\n",
            " [ 0.02088168 -0.56912947 -0.44616888]\n",
            " [-0.08177305 -0.5611945  -0.35229343]\n",
            " [-0.41466962 -0.63705856  0.04838688]\n",
            " [-0.30436228 -0.08425378 -0.61864694]\n",
            " [ 0.18869727 -0.8879586  -0.29713077]\n",
            " [ 0.24966175 -0.80507517 -0.44324457]\n",
            " [-0.39980476 -0.29016769 -0.30413406]] [[0 0 1]\n",
            " [0 1 0]\n",
            " [1 0 0]\n",
            " [0 0 1]\n",
            " [1 0 0]\n",
            " [0 0 1]\n",
            " [1 0 0]\n",
            " [0 1 0]\n",
            " [0 1 0]\n",
            " [0 1 0]\n",
            " [0 0 1]\n",
            " [0 1 0]\n",
            " [0 1 0]\n",
            " [0 1 0]\n",
            " [0 1 0]\n",
            " [1 0 0]\n",
            " [0 1 0]\n",
            " [0 1 0]\n",
            " [1 0 0]\n",
            " [1 0 0]\n",
            " [0 0 1]\n",
            " [0 1 0]\n",
            " [1 0 0]\n",
            " [1 0 0]\n",
            " [0 0 1]\n",
            " [1 0 0]\n",
            " [1 0 0]\n",
            " [0 1 0]\n",
            " [0 1 0]\n",
            " [1 0 0]\n",
            " [0 0 1]\n",
            " [0 1 0]\n",
            " [1 0 0]\n",
            " [0 0 1]\n",
            " [0 0 1]\n",
            " [0 1 0]\n",
            " [1 0 0]\n",
            " [0 1 0]\n",
            " [0 1 0]\n",
            " [0 1 0]\n",
            " [0 0 1]\n",
            " [1 0 0]\n",
            " [0 0 1]\n",
            " [1 0 0]\n",
            " [1 0 0]\n",
            " [0 1 0]\n",
            " [0 0 1]\n",
            " [0 0 1]\n",
            " [0 0 1]\n",
            " [0 0 1]\n",
            " [0 1 0]\n",
            " [0 0 1]\n",
            " [0 1 0]\n",
            " [0 1 0]\n",
            " [0 0 1]\n",
            " [0 0 1]\n",
            " [0 0 1]\n",
            " [0 0 1]\n",
            " [0 1 0]\n",
            " [0 0 1]\n",
            " [0 1 0]\n",
            " [1 0 0]\n",
            " [0 0 1]\n",
            " [0 1 0]\n",
            " [0 1 0]\n",
            " [0 1 0]\n",
            " [0 1 0]\n",
            " [0 0 1]\n",
            " [1 0 0]\n",
            " [1 0 0]\n",
            " [0 0 1]\n",
            " [0 1 0]\n",
            " [1 0 0]\n",
            " [1 0 0]\n",
            " [0 1 0]]\n",
            "[-0.76301132 -0.20224493  0.11801481 -0.90780855 -0.01116192 -0.6048727\n",
            "  0.02283491 -0.61076876 -0.37572754 -0.47017411 -0.42224234 -0.3355867\n",
            " -0.22723929 -0.07856729 -0.53383361  0.12163662 -0.71356947 -0.55111511\n",
            "  0.37991331 -0.11107635 -0.70713712 -0.02392675 -0.25045747  0.12675547\n",
            " -0.68210402 -0.08001795 -0.03259341 -0.04953425 -0.12974835 -0.19299299\n",
            " -0.3619768  -0.22818639 -0.06196433 -0.52455061 -0.40026409 -0.35056585\n",
            " -0.05770139 -1.11907501  0.19599366 -0.04299172 -0.48108269  0.1741885\n",
            " -0.41416456 -0.01053513  0.01645355 -0.11932181 -0.70817199 -0.77303401\n",
            " -0.61489613 -0.96334774 -0.31037723 -0.31952657 -0.35306417  0.12127427\n",
            " -0.6643231  -0.55149778 -0.55695146 -0.41111447 -0.49463336  0.06910059\n",
            " -0.23036784  0.30342285  0.17642852 -0.1906155  -0.42910413 -0.67759563\n",
            " -0.32958811 -0.97119543  0.02088168 -0.08177305 -0.41466962 -0.30436228\n",
            "  0.18869727  0.24966175 -0.39980476]\n"
          ],
          "name": "stdout"
        },
        {
          "output_type": "error",
          "ename": "ValueError",
          "evalue": "ignored",
          "traceback": [
            "\u001b[0;31m---------------------------------------------------------------------------\u001b[0m",
            "\u001b[0;31mValueError\u001b[0m                                Traceback (most recent call last)",
            "\u001b[0;32m<ipython-input-205-7000e0e9ae57>\u001b[0m in \u001b[0;36m<module>\u001b[0;34m()\u001b[0m\n\u001b[1;32m     41\u001b[0m \u001b[0;32mfor\u001b[0m \u001b[0mi\u001b[0m \u001b[0;32min\u001b[0m \u001b[0mrange\u001b[0m\u001b[0;34m(\u001b[0m\u001b[0mn_classes\u001b[0m\u001b[0;34m)\u001b[0m\u001b[0;34m:\u001b[0m\u001b[0;34m\u001b[0m\u001b[0;34m\u001b[0m\u001b[0m\n\u001b[1;32m     42\u001b[0m     \u001b[0mprint\u001b[0m\u001b[0;34m(\u001b[0m\u001b[0my_score\u001b[0m\u001b[0;34m[\u001b[0m\u001b[0;34m:\u001b[0m\u001b[0;34m,\u001b[0m \u001b[0mi\u001b[0m\u001b[0;34m]\u001b[0m\u001b[0;34m)\u001b[0m\u001b[0;34m\u001b[0m\u001b[0;34m\u001b[0m\u001b[0m\n\u001b[0;32m---> 43\u001b[0;31m     \u001b[0mfpr\u001b[0m\u001b[0;34m[\u001b[0m\u001b[0mi\u001b[0m\u001b[0;34m]\u001b[0m\u001b[0;34m,\u001b[0m \u001b[0mtpr\u001b[0m\u001b[0;34m[\u001b[0m\u001b[0mi\u001b[0m\u001b[0;34m]\u001b[0m\u001b[0;34m,\u001b[0m \u001b[0m_\u001b[0m \u001b[0;34m=\u001b[0m \u001b[0mroc_curve\u001b[0m\u001b[0;34m(\u001b[0m\u001b[0my_test\u001b[0m\u001b[0;34m[\u001b[0m\u001b[0;34m:\u001b[0m\u001b[0;34m,\u001b[0m \u001b[0mi\u001b[0m\u001b[0;34m]\u001b[0m\u001b[0;34m,\u001b[0m \u001b[0my_score\u001b[0m\u001b[0;34m[\u001b[0m\u001b[0;34m:\u001b[0m\u001b[0;34m,\u001b[0m \u001b[0mi\u001b[0m\u001b[0;34m]\u001b[0m\u001b[0;34m)\u001b[0m\u001b[0;34m\u001b[0m\u001b[0;34m\u001b[0m\u001b[0m\n\u001b[0m\u001b[1;32m     44\u001b[0m     \u001b[0mroc_auc\u001b[0m\u001b[0;34m[\u001b[0m\u001b[0mi\u001b[0m\u001b[0;34m]\u001b[0m \u001b[0;34m=\u001b[0m \u001b[0mauc\u001b[0m\u001b[0;34m(\u001b[0m\u001b[0mfpr\u001b[0m\u001b[0;34m[\u001b[0m\u001b[0mi\u001b[0m\u001b[0;34m]\u001b[0m\u001b[0;34m,\u001b[0m \u001b[0mtpr\u001b[0m\u001b[0;34m[\u001b[0m\u001b[0mi\u001b[0m\u001b[0;34m]\u001b[0m\u001b[0;34m)\u001b[0m\u001b[0;34m\u001b[0m\u001b[0;34m\u001b[0m\u001b[0m\n\u001b[1;32m     45\u001b[0m \u001b[0;34m\u001b[0m\u001b[0m\n",
            "\u001b[0;31mValueError\u001b[0m: setting an array element with a sequence."
          ]
        }
      ]
    }
  ]
}